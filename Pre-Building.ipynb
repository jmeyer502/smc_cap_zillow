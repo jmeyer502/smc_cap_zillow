{
 "cells": [
  {
   "cell_type": "code",
   "execution_count": 2,
   "metadata": {},
   "outputs": [],
   "source": [
    "import pandas as pd\n",
    "import numpy as np\n",
    "import matplotlib.pyplot as plt\n",
    "import matplotlib.dates as dates\n",
    "% matplotlib inline\n",
    "import xgboost as xgb\n",
    "import gc\n",
    "import datetime\n",
    "from matplotlib import pyplot as plt\n",
    "from sklearn.model_selection import train_test_split"
   ]
  },
  {
   "cell_type": "code",
   "execution_count": 3,
   "metadata": {},
   "outputs": [],
   "source": [
    "transaction_data = pd.read_csv(\"C:/Users/myang/Desktop/Zillow-Data-Analysis-master/Data/train_2016_v2.csv\", parse_dates =[\"transactiondate\"])"
   ]
  },
  {
   "cell_type": "code",
   "execution_count": 4,
   "metadata": {},
   "outputs": [
    {
     "data": {
      "text/html": [
       "<div>\n",
       "<style scoped>\n",
       "    .dataframe tbody tr th:only-of-type {\n",
       "        vertical-align: middle;\n",
       "    }\n",
       "\n",
       "    .dataframe tbody tr th {\n",
       "        vertical-align: top;\n",
       "    }\n",
       "\n",
       "    .dataframe thead th {\n",
       "        text-align: right;\n",
       "    }\n",
       "</style>\n",
       "<table border=\"1\" class=\"dataframe\">\n",
       "  <thead>\n",
       "    <tr style=\"text-align: right;\">\n",
       "      <th></th>\n",
       "      <th>parcelid</th>\n",
       "      <th>logerror</th>\n",
       "      <th>transactiondate</th>\n",
       "    </tr>\n",
       "  </thead>\n",
       "  <tbody>\n",
       "    <tr>\n",
       "      <th>0</th>\n",
       "      <td>11016594</td>\n",
       "      <td>0.0276</td>\n",
       "      <td>2016-01-01</td>\n",
       "    </tr>\n",
       "    <tr>\n",
       "      <th>1</th>\n",
       "      <td>14366692</td>\n",
       "      <td>-0.1684</td>\n",
       "      <td>2016-01-01</td>\n",
       "    </tr>\n",
       "    <tr>\n",
       "      <th>2</th>\n",
       "      <td>12098116</td>\n",
       "      <td>-0.0040</td>\n",
       "      <td>2016-01-01</td>\n",
       "    </tr>\n",
       "    <tr>\n",
       "      <th>3</th>\n",
       "      <td>12643413</td>\n",
       "      <td>0.0218</td>\n",
       "      <td>2016-01-02</td>\n",
       "    </tr>\n",
       "    <tr>\n",
       "      <th>4</th>\n",
       "      <td>14432541</td>\n",
       "      <td>-0.0050</td>\n",
       "      <td>2016-01-02</td>\n",
       "    </tr>\n",
       "  </tbody>\n",
       "</table>\n",
       "</div>"
      ],
      "text/plain": [
       "   parcelid  logerror transactiondate\n",
       "0  11016594    0.0276      2016-01-01\n",
       "1  14366692   -0.1684      2016-01-01\n",
       "2  12098116   -0.0040      2016-01-01\n",
       "3  12643413    0.0218      2016-01-02\n",
       "4  14432541   -0.0050      2016-01-02"
      ]
     },
     "execution_count": 4,
     "metadata": {},
     "output_type": "execute_result"
    }
   ],
   "source": [
    "transaction_data.head(5)"
   ]
  },
  {
   "cell_type": "code",
   "execution_count": 5,
   "metadata": {},
   "outputs": [
    {
     "data": {
      "text/plain": [
       "(90275, 3)"
      ]
     },
     "execution_count": 5,
     "metadata": {},
     "output_type": "execute_result"
    }
   ],
   "source": [
    "transaction_data.shape"
   ]
  },
  {
   "cell_type": "code",
   "execution_count": 6,
   "metadata": {},
   "outputs": [
    {
     "name": "stdout",
     "output_type": "stream",
     "text": [
      "90150\n",
      "125\n"
     ]
    }
   ],
   "source": [
    "unique_props = len(transaction_data['parcelid'].unique())\n",
    "multiple_sales = len(transaction_data) - unique_props\n",
    "print(unique_props)\n",
    "print(multiple_sales)"
   ]
  },
  {
   "cell_type": "markdown",
   "metadata": {},
   "source": [
    "Of the 90,275 total sales, 90,150 properties are were only sold once and 125 of the properties were sold more than once in 2016."
   ]
  },
  {
   "cell_type": "code",
   "execution_count": 7,
   "metadata": {},
   "outputs": [],
   "source": [
    "transaction_data['sale_month'] = transaction_data['transactiondate'].apply(lambda x: (x.to_pydatetime()).month)\n",
    "transaction_data['sale_day'] = transaction_data['transactiondate'].apply(lambda x: (x.to_pydatetime()).day)\n",
    "transaction_data['sale_year'] = transaction_data['transactiondate'].apply(lambda x: (x.to_pydatetime()).year)"
   ]
  },
  {
   "cell_type": "code",
   "execution_count": 8,
   "metadata": {},
   "outputs": [
    {
     "data": {
      "text/html": [
       "<div>\n",
       "<style scoped>\n",
       "    .dataframe tbody tr th:only-of-type {\n",
       "        vertical-align: middle;\n",
       "    }\n",
       "\n",
       "    .dataframe tbody tr th {\n",
       "        vertical-align: top;\n",
       "    }\n",
       "\n",
       "    .dataframe thead th {\n",
       "        text-align: right;\n",
       "    }\n",
       "</style>\n",
       "<table border=\"1\" class=\"dataframe\">\n",
       "  <thead>\n",
       "    <tr style=\"text-align: right;\">\n",
       "      <th></th>\n",
       "      <th>parcelid</th>\n",
       "      <th>logerror</th>\n",
       "      <th>transactiondate</th>\n",
       "      <th>sale_month</th>\n",
       "      <th>sale_day</th>\n",
       "      <th>sale_year</th>\n",
       "    </tr>\n",
       "  </thead>\n",
       "  <tbody>\n",
       "    <tr>\n",
       "      <th>0</th>\n",
       "      <td>11016594</td>\n",
       "      <td>0.0276</td>\n",
       "      <td>2016-01-01</td>\n",
       "      <td>1</td>\n",
       "      <td>1</td>\n",
       "      <td>2016</td>\n",
       "    </tr>\n",
       "    <tr>\n",
       "      <th>1</th>\n",
       "      <td>14366692</td>\n",
       "      <td>-0.1684</td>\n",
       "      <td>2016-01-01</td>\n",
       "      <td>1</td>\n",
       "      <td>1</td>\n",
       "      <td>2016</td>\n",
       "    </tr>\n",
       "    <tr>\n",
       "      <th>2</th>\n",
       "      <td>12098116</td>\n",
       "      <td>-0.0040</td>\n",
       "      <td>2016-01-01</td>\n",
       "      <td>1</td>\n",
       "      <td>1</td>\n",
       "      <td>2016</td>\n",
       "    </tr>\n",
       "    <tr>\n",
       "      <th>3</th>\n",
       "      <td>12643413</td>\n",
       "      <td>0.0218</td>\n",
       "      <td>2016-01-02</td>\n",
       "      <td>1</td>\n",
       "      <td>2</td>\n",
       "      <td>2016</td>\n",
       "    </tr>\n",
       "    <tr>\n",
       "      <th>4</th>\n",
       "      <td>14432541</td>\n",
       "      <td>-0.0050</td>\n",
       "      <td>2016-01-02</td>\n",
       "      <td>1</td>\n",
       "      <td>2</td>\n",
       "      <td>2016</td>\n",
       "    </tr>\n",
       "  </tbody>\n",
       "</table>\n",
       "</div>"
      ],
      "text/plain": [
       "   parcelid  logerror transactiondate  sale_month  sale_day  sale_year\n",
       "0  11016594    0.0276      2016-01-01           1         1       2016\n",
       "1  14366692   -0.1684      2016-01-01           1         1       2016\n",
       "2  12098116   -0.0040      2016-01-01           1         1       2016\n",
       "3  12643413    0.0218      2016-01-02           1         2       2016\n",
       "4  14432541   -0.0050      2016-01-02           1         2       2016"
      ]
     },
     "execution_count": 8,
     "metadata": {},
     "output_type": "execute_result"
    }
   ],
   "source": [
    "transaction_data.head(5)"
   ]
  },
  {
   "cell_type": "markdown",
   "metadata": {},
   "source": [
    "#### Sales Over Time"
   ]
  },
  {
   "cell_type": "code",
   "execution_count": 9,
   "metadata": {},
   "outputs": [
    {
     "data": {
      "text/plain": [
       "Text(0,0.5,'Number of Transactions')"
      ]
     },
     "execution_count": 9,
     "metadata": {},
     "output_type": "execute_result"
    },
    {
     "data": {
      "image/png": "[encoded data removed]",
      "text/plain": [
       "<Figure size 864x288 with 1 Axes>"
      ]
     },
     "metadata": {
      "needs_background": "light"
     },
     "output_type": "display_data"
    }
   ],
   "source": [
    "plt.figure(figsize=(12,4))\n",
    "plt.bar(range(1,13),(transaction_data.groupby('sale_month').count())['parcelid'],color='k')\n",
    "plt.xlabel('Sale Month')\n",
    "plt.ylabel('Number of Transactions')"
   ]
  },
  {
   "cell_type": "code",
   "execution_count": 10,
   "metadata": {},
   "outputs": [],
   "source": [
    "jan_transactions = transaction_data[transaction_data['sale_month'] == 1]['logerror']"
   ]
  },
  {
   "cell_type": "code",
   "execution_count": 11,
   "metadata": {},
   "outputs": [
    {
     "data": {
      "text/plain": [
       "<bound method NDFrame.tail of 0       0.0276\n",
       "1      -0.1684\n",
       "2      -0.0040\n",
       "3       0.0218\n",
       "4      -0.0050\n",
       "5      -0.2705\n",
       "6       0.0440\n",
       "7       0.1638\n",
       "8      -0.0030\n",
       "9       0.0843\n",
       "10      0.3825\n",
       "11     -0.0161\n",
       "12      0.0344\n",
       "13      0.0816\n",
       "14     -0.0450\n",
       "15      0.0020\n",
       "16      0.0440\n",
       "17     -0.0419\n",
       "18     -0.0020\n",
       "19      0.0100\n",
       "20     -0.0387\n",
       "21      0.0218\n",
       "22      0.0149\n",
       "23      0.1151\n",
       "24     -0.1696\n",
       "25     -0.0440\n",
       "26     -0.0747\n",
       "27      0.0080\n",
       "28      0.0010\n",
       "29     -0.0534\n",
       "         ...  \n",
       "6558    0.0129\n",
       "6559   -0.0284\n",
       "6560    0.0169\n",
       "6561    0.0917\n",
       "6562    0.0816\n",
       "6563    0.0373\n",
       "6564   -0.3496\n",
       "6565    0.0178\n",
       "6566   -0.0640\n",
       "6567   -0.0408\n",
       "6568   -0.0030\n",
       "6569   -0.1233\n",
       "6570    0.0188\n",
       "6571   -0.0987\n",
       "6572   -0.0171\n",
       "6573   -0.0070\n",
       "6574    0.0227\n",
       "6575    0.0354\n",
       "6576    0.0497\n",
       "6577   -0.0523\n",
       "6578    0.0440\n",
       "6579    0.0109\n",
       "6580    0.0119\n",
       "6581    0.4240\n",
       "6582   -0.0111\n",
       "6583   -0.0050\n",
       "6584   -0.0387\n",
       "6585    0.0431\n",
       "6586   -0.0243\n",
       "6587   -0.0419\n",
       "Name: logerror, Length: 6556, dtype: float64>"
      ]
     },
     "execution_count": 11,
     "metadata": {},
     "output_type": "execute_result"
    }
   ],
   "source": [
    "jan_transactions.tail"
   ]
  },
  {
   "cell_type": "code",
   "execution_count": 12,
   "metadata": {},
   "outputs": [
    {
     "name": "stdout",
     "output_type": "stream",
     "text": [
      "0.0159\n"
     ]
    }
   ],
   "source": [
    "jan_log_error = np.mean([jan_transactions])\n",
    "print(np.around(jan_log_error,4))"
   ]
  },
  {
   "cell_type": "code",
   "execution_count": 13,
   "metadata": {},
   "outputs": [],
   "source": [
    "avg_logs_table = []"
   ]
  },
  {
   "cell_type": "code",
   "execution_count": 14,
   "metadata": {},
   "outputs": [
    {
     "name": "stdout",
     "output_type": "stream",
     "text": [
      "[0.015869524100061077, 0.01608212537501983, 0.009866759130836856, 0.006605488132316614, 0.006925880935649025, 0.007172239516572072, 0.011687302704333059, 0.011572814051164615, 0.016255362924282046, 0.016341631504922665, 0.014510131434830202, 0.019122311673375463]\n"
     ]
    }
   ],
   "source": [
    "for i in range(1,13):\n",
    "    avg_logs = np.mean(transaction_data[transaction_data['sale_month'] == i]['logerror'])\n",
    "    avg_logs_table.append(avg_logs)\n",
    "print(avg_logs_table)"
   ]
  },
  {
   "cell_type": "code",
   "execution_count": 15,
   "metadata": {},
   "outputs": [
    {
     "data": {
      "image/png": "[encoded data removed]",
      "text/plain": [
       "<Figure size 432x288 with 1 Axes>"
      ]
     },
     "metadata": {
      "needs_background": "light"
     },
     "output_type": "display_data"
    }
   ],
   "source": [
    "t = range(1,13)\n",
    "plt.plot(t,avg_logs_table)\n",
    "plt.xlabel('Month')\n",
    "plt.ylabel('Average Log Error')\n",
    "plt.grid(True)"
   ]
  },
  {
   "cell_type": "code",
   "execution_count": 16,
   "metadata": {},
   "outputs": [
    {
     "name": "stderr",
     "output_type": "stream",
     "text": [
      "C:\\Users\\myang\\Anaconda3\\lib\\site-packages\\ipykernel_launcher.py:2: SettingWithCopyWarning: \n",
      "A value is trying to be set on a copy of a slice from a DataFrame.\n",
      "Try using .loc[row_indexer,col_indexer] = value instead\n",
      "\n",
      "See the caveats in the documentation: http://pandas.pydata.org/pandas-docs/stable/indexing.html#indexing-view-versus-copy\n",
      "  \n"
     ]
    },
    {
     "data": {
      "text/plain": [
       "<bound method NDFrame.head of        logerror  sale_month\n",
       "0        0.0276           1\n",
       "1        0.1684           1\n",
       "2        0.0040           1\n",
       "3        0.0218           1\n",
       "4        0.0050           1\n",
       "5        0.2705           1\n",
       "6        0.0440           1\n",
       "7        0.1638           1\n",
       "8        0.0030           1\n",
       "9        0.0843           1\n",
       "10       0.3825           1\n",
       "11       0.0161           1\n",
       "12       0.0344           1\n",
       "13       0.0816           1\n",
       "14       0.0450           1\n",
       "15       0.0020           1\n",
       "16       0.0440           1\n",
       "17       0.0419           1\n",
       "18       0.0020           1\n",
       "19       0.0100           1\n",
       "20       0.0387           1\n",
       "21       0.0218           1\n",
       "22       0.0149           1\n",
       "23       0.1151           1\n",
       "24       0.1696           1\n",
       "25       0.0440           1\n",
       "26       0.0747           1\n",
       "27       0.0080           1\n",
       "28       0.0010           1\n",
       "29       0.0534           1\n",
       "...         ...         ...\n",
       "90245    0.0953          12\n",
       "90246    0.0139          12\n",
       "90247    0.2095          12\n",
       "90248    0.0080          12\n",
       "90249    0.1312          12\n",
       "90250    0.0421          12\n",
       "90251    0.0658          12\n",
       "90252    0.0030          12\n",
       "90253    0.0294          12\n",
       "90254    0.0111          12\n",
       "90255    0.0070          12\n",
       "90256    0.0218          12\n",
       "90257    0.0526          12\n",
       "90258    0.0889          12\n",
       "90259    0.0178          12\n",
       "90260    0.0237          12\n",
       "90261    0.0431          12\n",
       "90262    0.2231          12\n",
       "90263    0.1398          12\n",
       "90264    0.0478          12\n",
       "90265    0.3769          12\n",
       "90266    0.0030          12\n",
       "90267    0.0010          12\n",
       "90268    0.0151          12\n",
       "90269    0.0344          12\n",
       "90270    0.0356          12\n",
       "90271    0.0070          12\n",
       "90272    0.2679          12\n",
       "90273    0.0602          12\n",
       "90274    0.4207          12\n",
       "\n",
       "[90275 rows x 2 columns]>"
      ]
     },
     "execution_count": 16,
     "metadata": {},
     "output_type": "execute_result"
    }
   ],
   "source": [
    "abs_log_error_list = transaction_data[['logerror','sale_month']]\n",
    "abs_log_error_list['logerror'] = np.abs(abs_log_error_list['logerror'])\n",
    "abs_log_error_list.head"
   ]
  },
  {
   "cell_type": "code",
   "execution_count": 17,
   "metadata": {},
   "outputs": [
    {
     "name": "stdout",
     "output_type": "stream",
     "text": [
      "[0.07269484441732726, 0.07743447023527479, 0.07204392048081316, 0.06997150681988983, 0.06624098986045543, 0.06615773667826351, 0.06504399316376759, 0.06610425735013294, 0.06727859007832837, 0.06474645368695962, 0.06396522453450172, 0.07595186889016677]\n"
     ]
    }
   ],
   "source": [
    "avg_abs_logs_table = []\n",
    "for i in range(1,13):\n",
    "    avg_logs = np.mean(abs_log_error_list[abs_log_error_list['sale_month'] == i]['logerror'])\n",
    "    avg_abs_logs_table.append(avg_logs)\n",
    "print(avg_abs_logs_table)"
   ]
  },
  {
   "cell_type": "code",
   "execution_count": 18,
   "metadata": {},
   "outputs": [
    {
     "data": {
      "image/png": "[encoded data removed]",
      "text/plain": [
       "<Figure size 432x288 with 1 Axes>"
      ]
     },
     "metadata": {
      "needs_background": "light"
     },
     "output_type": "display_data"
    }
   ],
   "source": [
    "plt.plot(avg_abs_logs_table)\n",
    "plt.xticks(np.linspace(0,11,12,endpoint=True))\n",
    "plt.yticks(np.linspace(0.05,0.09,5,endpoint=True))\n",
    "plt.xlabel('Month')\n",
    "plt.ylabel('Average Absolute Log Error')\n",
    "plt.grid(True)"
   ]
  },
  {
   "cell_type": "markdown",
   "metadata": {},
   "source": [
    "The average absolute log errors are highest in December, January, February and March. These are also months where fewer houses are sold."
   ]
  },
  {
   "cell_type": "code",
   "execution_count": 19,
   "metadata": {},
   "outputs": [],
   "source": [
    "import seaborn as sns\n",
    "# histogram of log error\n",
    "upper_limit = np.percentile(transaction_data.logerror.values, 99)\n",
    "lower_limit = np.percentile(transaction_data.logerror.values, 1)"
   ]
  },
  {
   "cell_type": "code",
   "execution_count": 20,
   "metadata": {},
   "outputs": [
    {
     "data": {
      "text/plain": [
       "Text(0,0.5,'N')"
      ]
     },
     "execution_count": 20,
     "metadata": {},
     "output_type": "execute_result"
    },
    {
     "data": {
      "image/png": "[encoded data removed]",
      "text/plain": [
       "<Figure size 864x288 with 1 Axes>"
      ]
     },
     "metadata": {
      "needs_background": "light"
     },
     "output_type": "display_data"
    }
   ],
   "source": [
    "from scipy.stats import norm\n",
    "plt.figure(figsize=(12,4))\n",
    "sns.distplot(transaction_data.logerror.values, bins=500, kde=False)\n",
    "plt.xlabel('Log Error')\n",
    "mu, std = norm.fit(transaction_data.logerror.values)\n",
    "xmin,xmax=plt.xlim()\n",
    "x = np.linspace(-5,5,1000)\n",
    "p = norm.pdf(x, 0, 0.025)\n",
    "plt.plot(x, p*(x[1]-x[0])*90275, 'k', linewidth=2)\n",
    "plt.axis([-0.3,0.3,0,20000])\n",
    "plt.ylabel('N')"
   ]
  },
  {
   "cell_type": "code",
   "execution_count": 21,
   "metadata": {},
   "outputs": [],
   "source": [
    "import matplotlib.dates as mdates\n",
    "from datetime import datetime\n",
    "transaction_data['transactiondate'] = transaction_data['transactiondate'].astype(datetime)\n",
    "transaction_data['transactiondate_num'] = mdates.date2num(transaction_data['transactiondate'])"
   ]
  },
  {
   "cell_type": "code",
   "execution_count": 22,
   "metadata": {},
   "outputs": [
    {
     "name": "stderr",
     "output_type": "stream",
     "text": [
      "C:\\Users\\myang\\Anaconda3\\lib\\site-packages\\scipy\\stats\\stats.py:1713: FutureWarning: Using a non-tuple sequence for multidimensional indexing is deprecated; use `arr[tuple(seq)]` instead of `arr[seq]`. In the future this will be interpreted as an array index, `arr[np.array(seq)]`, which will result either in an error or a different result.\n",
      "  return np.add.reduce(sorted[indexer] * weights, axis=axis) / sumval\n"
     ]
    },
    {
     "data": {
      "text/plain": [
       "(735964.0, 736328.0)"
      ]
     },
     "execution_count": 22,
     "metadata": {},
     "output_type": "execute_result"
    },
    {
     "data": {
      "image/png": "[encoded data removed]",
      "text/plain": [
       "<Figure size 432x288 with 1 Axes>"
      ]
     },
     "metadata": {
      "needs_background": "light"
     },
     "output_type": "display_data"
    }
   ],
   "source": [
    "ax = sns.regplot(x='transactiondate_num',\n",
    "                 y='logerror',\n",
    "                 data=transaction_data,\n",
    "                 scatter_kws={'alpha':0.4},\n",
    "                 line_kws={'color':sns.color_palette()[2]})\n",
    "plt.xticks(rotation=90)\n",
    "locator = mdates.MonthLocator()\n",
    "ax.xaxis.set_major_locator(locator)\n",
    "ax.xaxis.set_major_formatter(mdates.AutoDateFormatter(locator))\n",
    "ax.set_xlim(np.percentile(transaction_data['transactiondate_num'], 0),\n",
    "            np.percentile(transaction_data['transactiondate_num'], 100))"
   ]
  },
  {
   "cell_type": "code",
   "execution_count": 23,
   "metadata": {},
   "outputs": [
    {
     "name": "stderr",
     "output_type": "stream",
     "text": [
      "C:\\Users\\myang\\Anaconda3\\lib\\site-packages\\IPython\\core\\interactiveshell.py:2785: DtypeWarning: Columns (22,32,34,49,55) have mixed types. Specify dtype option on import or set low_memory=False.\n",
      "  interactivity=interactivity, compiler=compiler, result=result)\n"
     ]
    },
    {
     "data": {
      "text/html": [
       "<div>\n",
       "<style scoped>\n",
       "    .dataframe tbody tr th:only-of-type {\n",
       "        vertical-align: middle;\n",
       "    }\n",
       "\n",
       "    .dataframe tbody tr th {\n",
       "        vertical-align: top;\n",
       "    }\n",
       "\n",
       "    .dataframe thead th {\n",
       "        text-align: right;\n",
       "    }\n",
       "</style>\n",
       "<table border=\"1\" class=\"dataframe\">\n",
       "  <thead>\n",
       "    <tr style=\"text-align: right;\">\n",
       "      <th></th>\n",
       "      <th>parcelid</th>\n",
       "      <th>airconditioningtypeid</th>\n",
       "      <th>architecturalstyletypeid</th>\n",
       "      <th>basementsqft</th>\n",
       "      <th>bathroomcnt</th>\n",
       "      <th>bedroomcnt</th>\n",
       "      <th>buildingclasstypeid</th>\n",
       "      <th>buildingqualitytypeid</th>\n",
       "      <th>calculatedbathnbr</th>\n",
       "      <th>decktypeid</th>\n",
       "      <th>...</th>\n",
       "      <th>numberofstories</th>\n",
       "      <th>fireplaceflag</th>\n",
       "      <th>structuretaxvaluedollarcnt</th>\n",
       "      <th>taxvaluedollarcnt</th>\n",
       "      <th>assessmentyear</th>\n",
       "      <th>landtaxvaluedollarcnt</th>\n",
       "      <th>taxamount</th>\n",
       "      <th>taxdelinquencyflag</th>\n",
       "      <th>taxdelinquencyyear</th>\n",
       "      <th>censustractandblock</th>\n",
       "    </tr>\n",
       "  </thead>\n",
       "  <tbody>\n",
       "    <tr>\n",
       "      <th>0</th>\n",
       "      <td>10754147</td>\n",
       "      <td>NaN</td>\n",
       "      <td>NaN</td>\n",
       "      <td>NaN</td>\n",
       "      <td>0.0</td>\n",
       "      <td>0.0</td>\n",
       "      <td>NaN</td>\n",
       "      <td>NaN</td>\n",
       "      <td>NaN</td>\n",
       "      <td>NaN</td>\n",
       "      <td>...</td>\n",
       "      <td>NaN</td>\n",
       "      <td>NaN</td>\n",
       "      <td>NaN</td>\n",
       "      <td>9.0</td>\n",
       "      <td>2015.0</td>\n",
       "      <td>9.0</td>\n",
       "      <td>NaN</td>\n",
       "      <td>NaN</td>\n",
       "      <td>NaN</td>\n",
       "      <td>NaN</td>\n",
       "    </tr>\n",
       "    <tr>\n",
       "      <th>1</th>\n",
       "      <td>10759547</td>\n",
       "      <td>NaN</td>\n",
       "      <td>NaN</td>\n",
       "      <td>NaN</td>\n",
       "      <td>0.0</td>\n",
       "      <td>0.0</td>\n",
       "      <td>NaN</td>\n",
       "      <td>NaN</td>\n",
       "      <td>NaN</td>\n",
       "      <td>NaN</td>\n",
       "      <td>...</td>\n",
       "      <td>NaN</td>\n",
       "      <td>NaN</td>\n",
       "      <td>NaN</td>\n",
       "      <td>27516.0</td>\n",
       "      <td>2015.0</td>\n",
       "      <td>27516.0</td>\n",
       "      <td>NaN</td>\n",
       "      <td>NaN</td>\n",
       "      <td>NaN</td>\n",
       "      <td>NaN</td>\n",
       "    </tr>\n",
       "    <tr>\n",
       "      <th>2</th>\n",
       "      <td>10843547</td>\n",
       "      <td>NaN</td>\n",
       "      <td>NaN</td>\n",
       "      <td>NaN</td>\n",
       "      <td>0.0</td>\n",
       "      <td>0.0</td>\n",
       "      <td>NaN</td>\n",
       "      <td>NaN</td>\n",
       "      <td>NaN</td>\n",
       "      <td>NaN</td>\n",
       "      <td>...</td>\n",
       "      <td>NaN</td>\n",
       "      <td>NaN</td>\n",
       "      <td>650756.0</td>\n",
       "      <td>1413387.0</td>\n",
       "      <td>2015.0</td>\n",
       "      <td>762631.0</td>\n",
       "      <td>20800.37</td>\n",
       "      <td>NaN</td>\n",
       "      <td>NaN</td>\n",
       "      <td>NaN</td>\n",
       "    </tr>\n",
       "    <tr>\n",
       "      <th>3</th>\n",
       "      <td>10859147</td>\n",
       "      <td>NaN</td>\n",
       "      <td>NaN</td>\n",
       "      <td>NaN</td>\n",
       "      <td>0.0</td>\n",
       "      <td>0.0</td>\n",
       "      <td>3.0</td>\n",
       "      <td>7.0</td>\n",
       "      <td>NaN</td>\n",
       "      <td>NaN</td>\n",
       "      <td>...</td>\n",
       "      <td>1.0</td>\n",
       "      <td>NaN</td>\n",
       "      <td>571346.0</td>\n",
       "      <td>1156834.0</td>\n",
       "      <td>2015.0</td>\n",
       "      <td>585488.0</td>\n",
       "      <td>14557.57</td>\n",
       "      <td>NaN</td>\n",
       "      <td>NaN</td>\n",
       "      <td>NaN</td>\n",
       "    </tr>\n",
       "    <tr>\n",
       "      <th>4</th>\n",
       "      <td>10879947</td>\n",
       "      <td>NaN</td>\n",
       "      <td>NaN</td>\n",
       "      <td>NaN</td>\n",
       "      <td>0.0</td>\n",
       "      <td>0.0</td>\n",
       "      <td>4.0</td>\n",
       "      <td>NaN</td>\n",
       "      <td>NaN</td>\n",
       "      <td>NaN</td>\n",
       "      <td>...</td>\n",
       "      <td>NaN</td>\n",
       "      <td>NaN</td>\n",
       "      <td>193796.0</td>\n",
       "      <td>433491.0</td>\n",
       "      <td>2015.0</td>\n",
       "      <td>239695.0</td>\n",
       "      <td>5725.17</td>\n",
       "      <td>NaN</td>\n",
       "      <td>NaN</td>\n",
       "      <td>NaN</td>\n",
       "    </tr>\n",
       "  </tbody>\n",
       "</table>\n",
       "<p>5 rows × 58 columns</p>\n",
       "</div>"
      ],
      "text/plain": [
       "   parcelid  airconditioningtypeid  architecturalstyletypeid  basementsqft  \\\n",
       "0  10754147                    NaN                       NaN           NaN   \n",
       "1  10759547                    NaN                       NaN           NaN   \n",
       "2  10843547                    NaN                       NaN           NaN   \n",
       "3  10859147                    NaN                       NaN           NaN   \n",
       "4  10879947                    NaN                       NaN           NaN   \n",
       "\n",
       "   bathroomcnt  bedroomcnt  buildingclasstypeid  buildingqualitytypeid  \\\n",
       "0          0.0         0.0                  NaN                    NaN   \n",
       "1          0.0         0.0                  NaN                    NaN   \n",
       "2          0.0         0.0                  NaN                    NaN   \n",
       "3          0.0         0.0                  3.0                    7.0   \n",
       "4          0.0         0.0                  4.0                    NaN   \n",
       "\n",
       "   calculatedbathnbr  decktypeid         ...           numberofstories  \\\n",
       "0                NaN         NaN         ...                       NaN   \n",
       "1                NaN         NaN         ...                       NaN   \n",
       "2                NaN         NaN         ...                       NaN   \n",
       "3                NaN         NaN         ...                       1.0   \n",
       "4                NaN         NaN         ...                       NaN   \n",
       "\n",
       "   fireplaceflag  structuretaxvaluedollarcnt  taxvaluedollarcnt  \\\n",
       "0            NaN                         NaN                9.0   \n",
       "1            NaN                         NaN            27516.0   \n",
       "2            NaN                    650756.0          1413387.0   \n",
       "3            NaN                    571346.0          1156834.0   \n",
       "4            NaN                    193796.0           433491.0   \n",
       "\n",
       "   assessmentyear  landtaxvaluedollarcnt  taxamount  taxdelinquencyflag  \\\n",
       "0          2015.0                    9.0        NaN                 NaN   \n",
       "1          2015.0                27516.0        NaN                 NaN   \n",
       "2          2015.0               762631.0   20800.37                 NaN   \n",
       "3          2015.0               585488.0   14557.57                 NaN   \n",
       "4          2015.0               239695.0    5725.17                 NaN   \n",
       "\n",
       "   taxdelinquencyyear  censustractandblock  \n",
       "0                 NaN                  NaN  \n",
       "1                 NaN                  NaN  \n",
       "2                 NaN                  NaN  \n",
       "3                 NaN                  NaN  \n",
       "4                 NaN                  NaN  \n",
       "\n",
       "[5 rows x 58 columns]"
      ]
     },
     "execution_count": 23,
     "metadata": {},
     "output_type": "execute_result"
    }
   ],
   "source": [
    "property_data = pd.read_csv('C:/Users/myang/Desktop/Zillow-Data-Analysis-master/Data/properties_2016.csv')\n",
    "property_data.head(5)"
   ]
  },
  {
   "cell_type": "code",
   "execution_count": 24,
   "metadata": {},
   "outputs": [
    {
     "data": {
      "text/plain": [
       "<matplotlib.axes._subplots.AxesSubplot at 0x235b8cff828>"
      ]
     },
     "execution_count": 24,
     "metadata": {},
     "output_type": "execute_result"
    },
    {
     "data": {
      "image/png": "[encoded data removed]",
      "text/plain": [
       "<Figure size 864x1440 with 1 Axes>"
      ]
     },
     "metadata": {
      "needs_background": "light"
     },
     "output_type": "display_data"
    }
   ],
   "source": [
    "plt.figure(figsize=(12,20))\n",
    "property_data.drop('parcelid',axis=1).notnull().mean().sort_values(ascending = True).plot(kind = 'barh')"
   ]
  },
  {
   "cell_type": "code",
   "execution_count": 25,
   "metadata": {},
   "outputs": [
    {
     "data": {
      "text/plain": [
       "fips                            0.996169\n",
       "regionidcounty                  0.996169\n",
       "latitude                        0.996169\n",
       "propertylandusetypeid           0.996169\n",
       "rawcensustractandblock          0.996169\n",
       "longitude                       0.996169\n",
       "assessmentyear                  0.996168\n",
       "bedroomcnt                      0.996164\n",
       "bathroomcnt                     0.996160\n",
       "roomcnt                         0.996156\n",
       "propertycountylandusecode       0.995887\n",
       "regionidzip                     0.995317\n",
       "taxamount                       0.989532\n",
       "taxvaluedollarcnt               0.985746\n",
       "structuretaxvaluedollarcnt      0.981582\n",
       "calculatedfinishedsquarefeet    0.981387\n",
       "yearbuilt                       0.979925\n",
       "regionidcity                    0.978948\n",
       "landtaxvaluedollarcnt           0.977311\n",
       "censustractandblock             0.974834\n",
       "calculatedbathnbr               0.956817\n",
       "fullbathcnt                     0.956817\n",
       "finishedsquarefeet12            0.907533\n",
       "lotsizesquarefeet               0.907511\n",
       "propertyzoningdesc              0.662809\n",
       "unitcnt                         0.662428\n",
       "buildingqualitytypeid           0.649363\n",
       "heatingorsystemtypeid           0.605115\n",
       "regionidneighborhood            0.387376\n",
       "garagecarcnt                    0.295880\n",
       "garagetotalsqft                 0.295880\n",
       "airconditioningtypeid           0.271846\n",
       "numberofstories                 0.228482\n",
       "poolcnt                         0.173366\n",
       "pooltypeid7                     0.162621\n",
       "fireplacecnt                    0.104728\n",
       "threequarterbathnbr             0.104391\n",
       "finishedfloor1squarefeet        0.067907\n",
       "finishedsquarefeet50            0.067907\n",
       "finishedsquarefeet15            0.063914\n",
       "yardbuildingsqft17              0.026918\n",
       "hashottuborspa                  0.023119\n",
       "taxdelinquencyyear              0.018915\n",
       "taxdelinquencyflag              0.018914\n",
       "pooltypeid10                    0.012374\n",
       "pooltypeid2                     0.010745\n",
       "poolsizesum                     0.009366\n",
       "finishedsquarefeet6             0.007370\n",
       "decktypeid                      0.005727\n",
       "buildingclasstypeid             0.004231\n",
       "finishedsquarefeet13            0.002570\n",
       "typeconstructiontypeid          0.002260\n",
       "architecturalstyletypeid        0.002030\n",
       "fireplaceflag                   0.001730\n",
       "yardbuildingsqft26              0.000887\n",
       "basementsqft                    0.000545\n",
       "storytypeid                     0.000544\n",
       "dtype: float64"
      ]
     },
     "execution_count": 25,
     "metadata": {},
     "output_type": "execute_result"
    }
   ],
   "source": [
    "property_data.drop('parcelid',axis=1).notnull().mean().sort_values(ascending = False)"
   ]
  },
  {
   "cell_type": "code",
   "execution_count": 26,
   "metadata": {},
   "outputs": [
    {
     "data": {
      "text/plain": [
       "(2985217, 58)"
      ]
     },
     "execution_count": 26,
     "metadata": {},
     "output_type": "execute_result"
    }
   ],
   "source": [
    "property_data.shape"
   ]
  },
  {
   "cell_type": "code",
   "execution_count": 27,
   "metadata": {},
   "outputs": [],
   "source": [
    "missing_df = property_data.isnull().sum(axis=0).reset_index()\n",
    "missing_df.columns = ['column_name', 'missing_count']\n",
    "missing_df = missing_df.loc[missing_df['missing_count']>0]\n",
    "missing_df = missing_df.sort_values(by='missing_count')"
   ]
  },
  {
   "cell_type": "code",
   "execution_count": 28,
   "metadata": {},
   "outputs": [
    {
     "data": {
      "text/plain": [
       "<bound method NDFrame.head of                      column_name  missing_count\n",
       "35        rawcensustractandblock          11437\n",
       "25                     longitude          11437\n",
       "24                      latitude          11437\n",
       "37                regionidcounty          11437\n",
       "17                          fips          11437\n",
       "33         propertylandusetypeid          11437\n",
       "52                assessmentyear          11439\n",
       "5                     bedroomcnt          11450\n",
       "4                    bathroomcnt          11462\n",
       "40                       roomcnt          11475\n",
       "32     propertycountylandusecode          12277\n",
       "39                   regionidzip          13980\n",
       "54                     taxamount          31250\n",
       "51             taxvaluedollarcnt          42550\n",
       "50    structuretaxvaluedollarcnt          54982\n",
       "11  calculatedfinishedsquarefeet          55565\n",
       "47                     yearbuilt          59928\n",
       "36                  regionidcity          62845\n",
       "53         landtaxvaluedollarcnt          67733\n",
       "57           censustractandblock          75126\n",
       "19                   fullbathcnt         128912\n",
       "8              calculatedbathnbr         128912\n",
       "12          finishedsquarefeet12         276033\n",
       "26             lotsizesquarefeet         276099\n",
       "34            propertyzoningdesc        1006588\n",
       "44                       unitcnt        1007727\n",
       "7          buildingqualitytypeid        1046729\n",
       "23         heatingorsystemtypeid        1178816\n",
       "38          regionidneighborhood        1828815\n",
       "21               garagetotalsqft        2101950\n",
       "20                  garagecarcnt        2101950\n",
       "1          airconditioningtypeid        2173698\n",
       "48               numberofstories        2303148\n",
       "27                       poolcnt        2467683\n",
       "31                   pooltypeid7        2499758\n",
       "18                  fireplacecnt        2672580\n",
       "42           threequarterbathnbr        2673586\n",
       "10      finishedfloor1squarefeet        2782500\n",
       "15          finishedsquarefeet50        2782500\n",
       "14          finishedsquarefeet15        2794419\n",
       "45            yardbuildingsqft17        2904862\n",
       "22                hashottuborspa        2916203\n",
       "56            taxdelinquencyyear        2928753\n",
       "55            taxdelinquencyflag        2928755\n",
       "29                  pooltypeid10        2948278\n",
       "30                   pooltypeid2        2953142\n",
       "28                   poolsizesum        2957257\n",
       "16           finishedsquarefeet6        2963216\n",
       "9                     decktypeid        2968121\n",
       "6            buildingclasstypeid        2972588\n",
       "13          finishedsquarefeet13        2977545\n",
       "43        typeconstructiontypeid        2978470\n",
       "2       architecturalstyletypeid        2979156\n",
       "49                 fireplaceflag        2980054\n",
       "46            yardbuildingsqft26        2982570\n",
       "3                   basementsqft        2983589\n",
       "41                   storytypeid        2983593>"
      ]
     },
     "execution_count": 28,
     "metadata": {},
     "output_type": "execute_result"
    }
   ],
   "source": [
    "missing_df.head"
   ]
  },
  {
   "cell_type": "code",
   "execution_count": 29,
   "metadata": {},
   "outputs": [],
   "source": [
    "missing_df['missing_rate']=missing_df['missing_count']/2985217\n",
    "cutoff=0.9"
   ]
  },
  {
   "cell_type": "code",
   "execution_count": 30,
   "metadata": {},
   "outputs": [],
   "source": [
    "property_data.drop(missing_df[(missing_df.missing_rate>=cutoff)].column_name.values.tolist(),\n",
    "                    axis=1,inplace=True)"
   ]
  },
  {
   "cell_type": "code",
   "execution_count": 31,
   "metadata": {},
   "outputs": [
    {
     "data": {
      "text/plain": [
       "(2985217, 38)"
      ]
     },
     "execution_count": 31,
     "metadata": {},
     "output_type": "execute_result"
    }
   ],
   "source": [
    "property_data.shape"
   ]
  },
  {
   "cell_type": "code",
   "execution_count": 32,
   "metadata": {},
   "outputs": [
    {
     "data": {
      "text/plain": [
       "<bound method NDFrame.head of           parcelid  airconditioningtypeid  bathroomcnt  bedroomcnt  \\\n",
       "0         10754147                    NaN          0.0         0.0   \n",
       "1         10759547                    NaN          0.0         0.0   \n",
       "2         10843547                    NaN          0.0         0.0   \n",
       "3         10859147                    NaN          0.0         0.0   \n",
       "4         10879947                    NaN          0.0         0.0   \n",
       "5         10898347                    NaN          0.0         0.0   \n",
       "6         10933547                    NaN          0.0         0.0   \n",
       "7         10940747                    NaN          0.0         0.0   \n",
       "8         10954547                    NaN          0.0         0.0   \n",
       "9         10976347                    NaN          0.0         0.0   \n",
       "10        11073947                    NaN          0.0         0.0   \n",
       "11        11114347                    NaN          0.0         0.0   \n",
       "12        11116947                    NaN          0.0         0.0   \n",
       "13        11142747                    NaN          0.0         0.0   \n",
       "14        11193347                    NaN          0.0         0.0   \n",
       "15        11215747                    NaN          0.0         0.0   \n",
       "16        11229347                    NaN          0.0         0.0   \n",
       "17        11287347                    NaN          0.0         0.0   \n",
       "18        11288547                    NaN          0.0         0.0   \n",
       "19        11324547                    1.0          2.0         4.0   \n",
       "20        11391347                    NaN          0.0         0.0   \n",
       "21        11395747                    NaN          0.0         0.0   \n",
       "22        11404347                    NaN          0.0         0.0   \n",
       "23        11405747                    NaN          0.0         0.0   \n",
       "24        11417147                    NaN          0.0         0.0   \n",
       "25        11457547                    NaN          0.0         0.0   \n",
       "26        11488147                    NaN          4.0         5.0   \n",
       "27        11520747                    NaN          0.0         0.0   \n",
       "28        11524947                    1.0          2.0         2.0   \n",
       "29        11544747                    1.0          4.0         3.0   \n",
       "...            ...                    ...          ...         ...   \n",
       "2985187  167636430                    NaN          NaN         NaN   \n",
       "2985188  167690630                    NaN          NaN         NaN   \n",
       "2985189  167636630                    NaN          NaN         NaN   \n",
       "2985190   10834030                    NaN          NaN         NaN   \n",
       "2985191  167637430                    NaN          NaN         NaN   \n",
       "2985192  167637630                    NaN          NaN         NaN   \n",
       "2985193  167637230                    NaN          NaN         NaN   \n",
       "2985194   11645030                    NaN          NaN         NaN   \n",
       "2985195  167689030                    NaN          NaN         NaN   \n",
       "2985196  167638630                    NaN          NaN         NaN   \n",
       "2985197  167638430                    NaN          NaN         NaN   \n",
       "2985198   14342030                    NaN          NaN         NaN   \n",
       "2985199  167638230                    NaN          NaN         NaN   \n",
       "2985200  167637830                    NaN          NaN         NaN   \n",
       "2985201  167639230                    NaN          NaN         NaN   \n",
       "2985202   14341030                    NaN          NaN         NaN   \n",
       "2985203   14341630                    NaN          NaN         NaN   \n",
       "2985204   14367630                    NaN          NaN         NaN   \n",
       "2985205  167638830                    NaN          NaN         NaN   \n",
       "2985206   12572230                    NaN          NaN         NaN   \n",
       "2985207   14460030                    NaN          NaN         NaN   \n",
       "2985208   14284830                    NaN          NaN         NaN   \n",
       "2985209   14285230                    NaN          NaN         NaN   \n",
       "2985210   14455630                    NaN          NaN         NaN   \n",
       "2985211   11117630                    NaN          NaN         NaN   \n",
       "2985212  168176230                    NaN          NaN         NaN   \n",
       "2985213   14273630                    NaN          NaN         NaN   \n",
       "2985214  168040630                    NaN          NaN         NaN   \n",
       "2985215  168040830                    NaN          NaN         NaN   \n",
       "2985216  168040430                    NaN          NaN         NaN   \n",
       "\n",
       "         buildingqualitytypeid  calculatedbathnbr  \\\n",
       "0                          NaN                NaN   \n",
       "1                          NaN                NaN   \n",
       "2                          NaN                NaN   \n",
       "3                          7.0                NaN   \n",
       "4                          NaN                NaN   \n",
       "5                          7.0                NaN   \n",
       "6                          NaN                NaN   \n",
       "7                          NaN                NaN   \n",
       "8                          NaN                NaN   \n",
       "9                          7.0                NaN   \n",
       "10                         NaN                NaN   \n",
       "11                         NaN                NaN   \n",
       "12                         NaN                NaN   \n",
       "13                         NaN                NaN   \n",
       "14                         NaN                NaN   \n",
       "15                         NaN                NaN   \n",
       "16                         NaN                NaN   \n",
       "17                         7.0                NaN   \n",
       "18                         7.0                NaN   \n",
       "19                         4.0                2.0   \n",
       "20                         7.0                NaN   \n",
       "21                         7.0                NaN   \n",
       "22                         7.0                NaN   \n",
       "23                         7.0                NaN   \n",
       "24                         7.0                NaN   \n",
       "25                         NaN                NaN   \n",
       "26                         4.0                4.0   \n",
       "27                         7.0                NaN   \n",
       "28                         4.0                2.0   \n",
       "29                        10.0                4.0   \n",
       "...                        ...                ...   \n",
       "2985187                    NaN                NaN   \n",
       "2985188                    NaN                NaN   \n",
       "2985189                    NaN                NaN   \n",
       "2985190                    NaN                NaN   \n",
       "2985191                    NaN                NaN   \n",
       "2985192                    NaN                NaN   \n",
       "2985193                    NaN                NaN   \n",
       "2985194                    NaN                NaN   \n",
       "2985195                    NaN                NaN   \n",
       "2985196                    NaN                NaN   \n",
       "2985197                    NaN                NaN   \n",
       "2985198                    NaN                NaN   \n",
       "2985199                    NaN                NaN   \n",
       "2985200                    NaN                NaN   \n",
       "2985201                    NaN                NaN   \n",
       "2985202                    NaN                NaN   \n",
       "2985203                    NaN                NaN   \n",
       "2985204                    NaN                NaN   \n",
       "2985205                    NaN                NaN   \n",
       "2985206                    NaN                NaN   \n",
       "2985207                    NaN                NaN   \n",
       "2985208                    NaN                NaN   \n",
       "2985209                    NaN                NaN   \n",
       "2985210                    NaN                NaN   \n",
       "2985211                    NaN                NaN   \n",
       "2985212                    NaN                NaN   \n",
       "2985213                    NaN                NaN   \n",
       "2985214                    NaN                NaN   \n",
       "2985215                    NaN                NaN   \n",
       "2985216                    NaN                NaN   \n",
       "\n",
       "         calculatedfinishedsquarefeet  finishedsquarefeet12    fips  \\\n",
       "0                                 NaN                   NaN  6037.0   \n",
       "1                                 NaN                   NaN  6037.0   \n",
       "2                             73026.0                   NaN  6037.0   \n",
       "3                              5068.0                   NaN  6037.0   \n",
       "4                              1776.0                   NaN  6037.0   \n",
       "5                              2400.0                   NaN  6037.0   \n",
       "6                                 NaN                   NaN  6037.0   \n",
       "7                              3611.0                   NaN  6037.0   \n",
       "8                                 NaN                   NaN  6037.0   \n",
       "9                              3754.0                   NaN  6037.0   \n",
       "10                             2470.0                   NaN  6037.0   \n",
       "11                                NaN                   NaN  6037.0   \n",
       "12                                NaN                   NaN  6037.0   \n",
       "13                                NaN                   NaN  6037.0   \n",
       "14                                NaN                   NaN  6037.0   \n",
       "15                                NaN                   NaN  6037.0   \n",
       "16                                NaN                   NaN  6037.0   \n",
       "17                             2760.0                   NaN  6037.0   \n",
       "18                             4000.0                4000.0  6037.0   \n",
       "19                             3633.0                3633.0  6037.0   \n",
       "20                             4053.0                   NaN  6037.0   \n",
       "21                             1442.0                   NaN  6037.0   \n",
       "22                             1936.0                   NaN  6037.0   \n",
       "23                             1606.0                   NaN  6037.0   \n",
       "24                             2820.0                   NaN  6037.0   \n",
       "25                                NaN                   NaN  6037.0   \n",
       "26                             2865.0                   NaN  6037.0   \n",
       "27                             6790.0                   NaN  6037.0   \n",
       "28                             1090.0                1090.0  6037.0   \n",
       "29                             1620.0                1620.0  6037.0   \n",
       "...                               ...                   ...     ...   \n",
       "2985187                           NaN                   NaN     NaN   \n",
       "2985188                           NaN                   NaN     NaN   \n",
       "2985189                           NaN                   NaN     NaN   \n",
       "2985190                           NaN                   NaN     NaN   \n",
       "2985191                           NaN                   NaN     NaN   \n",
       "2985192                           NaN                   NaN     NaN   \n",
       "2985193                           NaN                   NaN     NaN   \n",
       "2985194                           NaN                   NaN     NaN   \n",
       "2985195                           NaN                   NaN     NaN   \n",
       "2985196                           NaN                   NaN     NaN   \n",
       "2985197                           NaN                   NaN     NaN   \n",
       "2985198                           NaN                   NaN     NaN   \n",
       "2985199                           NaN                   NaN     NaN   \n",
       "2985200                           NaN                   NaN     NaN   \n",
       "2985201                           NaN                   NaN     NaN   \n",
       "2985202                           NaN                   NaN     NaN   \n",
       "2985203                           NaN                   NaN     NaN   \n",
       "2985204                           NaN                   NaN     NaN   \n",
       "2985205                           NaN                   NaN     NaN   \n",
       "2985206                           NaN                   NaN     NaN   \n",
       "2985207                           NaN                   NaN     NaN   \n",
       "2985208                           NaN                   NaN     NaN   \n",
       "2985209                           NaN                   NaN     NaN   \n",
       "2985210                           NaN                   NaN     NaN   \n",
       "2985211                           NaN                   NaN     NaN   \n",
       "2985212                           NaN                   NaN     NaN   \n",
       "2985213                           NaN                   NaN     NaN   \n",
       "2985214                           NaN                   NaN     NaN   \n",
       "2985215                           NaN                   NaN     NaN   \n",
       "2985216                           NaN                   NaN     NaN   \n",
       "\n",
       "         fireplacecnt         ...          threequarterbathnbr  unitcnt  \\\n",
       "0                 NaN         ...                          NaN      NaN   \n",
       "1                 NaN         ...                          NaN      NaN   \n",
       "2                 NaN         ...                          NaN      2.0   \n",
       "3                 NaN         ...                          NaN      NaN   \n",
       "4                 NaN         ...                          NaN      1.0   \n",
       "5                 NaN         ...                          NaN      NaN   \n",
       "6                 NaN         ...                          NaN      NaN   \n",
       "7                 NaN         ...                          NaN      NaN   \n",
       "8                 NaN         ...                          NaN      NaN   \n",
       "9                 NaN         ...                          NaN      NaN   \n",
       "10                NaN         ...                          NaN      NaN   \n",
       "11                NaN         ...                          NaN      NaN   \n",
       "12                NaN         ...                          NaN      NaN   \n",
       "13                NaN         ...                          NaN      NaN   \n",
       "14                NaN         ...                          NaN      NaN   \n",
       "15                NaN         ...                          NaN      NaN   \n",
       "16                NaN         ...                          NaN      NaN   \n",
       "17                NaN         ...                          NaN      NaN   \n",
       "18                NaN         ...                          NaN      NaN   \n",
       "19                NaN         ...                          NaN      1.0   \n",
       "20                NaN         ...                          NaN      1.0   \n",
       "21                NaN         ...                          NaN      1.0   \n",
       "22                NaN         ...                          NaN      NaN   \n",
       "23                NaN         ...                          NaN      1.0   \n",
       "24                NaN         ...                          NaN      2.0   \n",
       "25                NaN         ...                          NaN      NaN   \n",
       "26                NaN         ...                          NaN      2.0   \n",
       "27                NaN         ...                          NaN      NaN   \n",
       "28                NaN         ...                          NaN      1.0   \n",
       "29                NaN         ...                          NaN      1.0   \n",
       "...               ...         ...                          ...      ...   \n",
       "2985187           NaN         ...                          NaN      NaN   \n",
       "2985188           NaN         ...                          NaN      NaN   \n",
       "2985189           NaN         ...                          NaN      NaN   \n",
       "2985190           NaN         ...                          NaN      NaN   \n",
       "2985191           NaN         ...                          NaN      NaN   \n",
       "2985192           NaN         ...                          NaN      NaN   \n",
       "2985193           NaN         ...                          NaN      NaN   \n",
       "2985194           NaN         ...                          NaN      NaN   \n",
       "2985195           NaN         ...                          NaN      NaN   \n",
       "2985196           NaN         ...                          NaN      NaN   \n",
       "2985197           NaN         ...                          NaN      NaN   \n",
       "2985198           NaN         ...                          NaN      NaN   \n",
       "2985199           NaN         ...                          NaN      NaN   \n",
       "2985200           NaN         ...                          NaN      NaN   \n",
       "2985201           NaN         ...                          NaN      NaN   \n",
       "2985202           NaN         ...                          NaN      NaN   \n",
       "2985203           NaN         ...                          NaN      NaN   \n",
       "2985204           NaN         ...                          NaN      NaN   \n",
       "2985205           NaN         ...                          NaN      NaN   \n",
       "2985206           NaN         ...                          NaN      NaN   \n",
       "2985207           NaN         ...                          NaN      NaN   \n",
       "2985208           NaN         ...                          NaN      NaN   \n",
       "2985209           NaN         ...                          NaN      NaN   \n",
       "2985210           NaN         ...                          NaN      NaN   \n",
       "2985211           NaN         ...                          NaN      NaN   \n",
       "2985212           NaN         ...                          NaN      NaN   \n",
       "2985213           NaN         ...                          NaN      NaN   \n",
       "2985214           NaN         ...                          NaN      NaN   \n",
       "2985215           NaN         ...                          NaN      NaN   \n",
       "2985216           NaN         ...                          NaN      NaN   \n",
       "\n",
       "         yearbuilt  numberofstories  structuretaxvaluedollarcnt  \\\n",
       "0              NaN              NaN                         NaN   \n",
       "1              NaN              NaN                         NaN   \n",
       "2              NaN              NaN                    650756.0   \n",
       "3           1948.0              1.0                    571346.0   \n",
       "4           1947.0              NaN                    193796.0   \n",
       "5           1943.0              1.0                    176383.0   \n",
       "6              NaN              NaN                    397945.0   \n",
       "7           1946.0              1.0                    101998.0   \n",
       "8              NaN              NaN                         NaN   \n",
       "9           1978.0              1.0                    218440.0   \n",
       "10          1958.0              1.0                    245834.0   \n",
       "11             NaN              NaN                         NaN   \n",
       "12             NaN              NaN                         NaN   \n",
       "13             NaN              NaN                         NaN   \n",
       "14             NaN              NaN                         NaN   \n",
       "15             NaN              NaN                         NaN   \n",
       "16             NaN              NaN                         NaN   \n",
       "17          1949.0              NaN                     32654.0   \n",
       "18          1956.0              NaN                     56736.0   \n",
       "19          2005.0              NaN                    218982.0   \n",
       "20          1957.0              NaN                    197599.0   \n",
       "21             NaN              1.0                     35876.0   \n",
       "22          1939.0              1.0                     69879.0   \n",
       "23          1926.0              1.0                     41917.0   \n",
       "24          1938.0              1.0                     44959.0   \n",
       "25             NaN              NaN                         NaN   \n",
       "26          1972.0              NaN                    267623.0   \n",
       "27          1955.0              1.0                    204800.0   \n",
       "28          2004.0              NaN                    229399.0   \n",
       "29          2011.0              NaN                    334432.0   \n",
       "...            ...              ...                         ...   \n",
       "2985187        NaN              NaN                         NaN   \n",
       "2985188        NaN              NaN                         NaN   \n",
       "2985189        NaN              NaN                         NaN   \n",
       "2985190        NaN              NaN                         NaN   \n",
       "2985191        NaN              NaN                         NaN   \n",
       "2985192        NaN              NaN                         NaN   \n",
       "2985193        NaN              NaN                         NaN   \n",
       "2985194        NaN              NaN                         NaN   \n",
       "2985195        NaN              NaN                         NaN   \n",
       "2985196        NaN              NaN                         NaN   \n",
       "2985197        NaN              NaN                         NaN   \n",
       "2985198        NaN              NaN                         NaN   \n",
       "2985199        NaN              NaN                         NaN   \n",
       "2985200        NaN              NaN                         NaN   \n",
       "2985201        NaN              NaN                         NaN   \n",
       "2985202        NaN              NaN                         NaN   \n",
       "2985203        NaN              NaN                         NaN   \n",
       "2985204        NaN              NaN                         NaN   \n",
       "2985205        NaN              NaN                         NaN   \n",
       "2985206        NaN              NaN                         NaN   \n",
       "2985207        NaN              NaN                         NaN   \n",
       "2985208        NaN              NaN                         NaN   \n",
       "2985209        NaN              NaN                         NaN   \n",
       "2985210        NaN              NaN                         NaN   \n",
       "2985211        NaN              NaN                         NaN   \n",
       "2985212        NaN              NaN                         NaN   \n",
       "2985213        NaN              NaN                         NaN   \n",
       "2985214        NaN              NaN                         NaN   \n",
       "2985215        NaN              NaN                         NaN   \n",
       "2985216        NaN              NaN                         NaN   \n",
       "\n",
       "         taxvaluedollarcnt  assessmentyear  landtaxvaluedollarcnt  taxamount  \\\n",
       "0                      9.0          2015.0                    9.0        NaN   \n",
       "1                  27516.0          2015.0                27516.0        NaN   \n",
       "2                1413387.0          2015.0               762631.0   20800.37   \n",
       "3                1156834.0          2015.0               585488.0   14557.57   \n",
       "4                 433491.0          2015.0               239695.0    5725.17   \n",
       "5                 283315.0          2015.0               106932.0    3661.28   \n",
       "6                 554573.0          2015.0               156628.0    6773.34   \n",
       "7                 688486.0          2015.0               586488.0    7857.84   \n",
       "8                      9.0          2015.0                    9.0        NaN   \n",
       "9                 261201.0          2015.0                42761.0    4054.76   \n",
       "10                430208.0          2015.0               184374.0    6014.18   \n",
       "11                     9.0          2015.0                    9.0        NaN   \n",
       "12                171200.0          2015.0               171200.0    4690.68   \n",
       "13                  4265.0          2015.0                 4265.0        NaN   \n",
       "14                    10.0          2015.0                   10.0        NaN   \n",
       "15                    10.0          2015.0                   10.0        NaN   \n",
       "16                  2077.0          2015.0                 2077.0     174.21   \n",
       "17                 62424.0          2015.0                29770.0    2330.24   \n",
       "18                102385.0          2015.0                45649.0    4162.56   \n",
       "19                291973.0          2015.0                72991.0    6941.39   \n",
       "20                503752.0          2015.0               306153.0    6840.34   \n",
       "21                 49928.0          2015.0                14052.0    1522.08   \n",
       "22                231720.0          2015.0               161841.0    3703.54   \n",
       "23                181667.0          2015.0               139750.0    2992.02   \n",
       "24                133717.0          2015.0                88758.0    2797.70   \n",
       "25                   124.0          2015.0                  124.0        NaN   \n",
       "26                818739.0          2015.0               551116.0   10455.41   \n",
       "27                786584.0          2015.0               581784.0   11304.81   \n",
       "28                352198.0          2015.0               122799.0    6165.36   \n",
       "29                835036.0          2015.0               500604.0   10244.94   \n",
       "...                    ...             ...                    ...        ...   \n",
       "2985187                NaN             NaN                    NaN        NaN   \n",
       "2985188                NaN             NaN                    NaN        NaN   \n",
       "2985189                NaN             NaN                    NaN        NaN   \n",
       "2985190                NaN             NaN                    NaN        NaN   \n",
       "2985191                NaN             NaN                    NaN        NaN   \n",
       "2985192                NaN             NaN                    NaN        NaN   \n",
       "2985193                NaN             NaN                    NaN        NaN   \n",
       "2985194                NaN             NaN                    NaN        NaN   \n",
       "2985195                NaN             NaN                    NaN        NaN   \n",
       "2985196                NaN             NaN                    NaN        NaN   \n",
       "2985197                NaN             NaN                    NaN        NaN   \n",
       "2985198                NaN             NaN                    NaN        NaN   \n",
       "2985199                NaN             NaN                    NaN        NaN   \n",
       "2985200                NaN             NaN                    NaN        NaN   \n",
       "2985201                NaN             NaN                    NaN        NaN   \n",
       "2985202                NaN             NaN                    NaN        NaN   \n",
       "2985203                NaN             NaN                    NaN        NaN   \n",
       "2985204                NaN             NaN                    NaN        NaN   \n",
       "2985205                NaN             NaN                    NaN        NaN   \n",
       "2985206                NaN             NaN                    NaN        NaN   \n",
       "2985207                NaN             NaN                    NaN        NaN   \n",
       "2985208                NaN             NaN                    NaN        NaN   \n",
       "2985209                NaN             NaN                    NaN        NaN   \n",
       "2985210                NaN             NaN                    NaN        NaN   \n",
       "2985211                NaN             NaN                    NaN        NaN   \n",
       "2985212                NaN             NaN                    NaN        NaN   \n",
       "2985213                NaN             NaN                    NaN        NaN   \n",
       "2985214                NaN             NaN                    NaN        NaN   \n",
       "2985215                NaN             NaN                    NaN        NaN   \n",
       "2985216                NaN             NaN                    NaN        NaN   \n",
       "\n",
       "        censustractandblock  \n",
       "0                       NaN  \n",
       "1                       NaN  \n",
       "2                       NaN  \n",
       "3                       NaN  \n",
       "4                       NaN  \n",
       "5                       NaN  \n",
       "6                       NaN  \n",
       "7                       NaN  \n",
       "8                       NaN  \n",
       "9                       NaN  \n",
       "10                      NaN  \n",
       "11                      NaN  \n",
       "12                      NaN  \n",
       "13                      NaN  \n",
       "14                      NaN  \n",
       "15                      NaN  \n",
       "16                      NaN  \n",
       "17                      NaN  \n",
       "18                      NaN  \n",
       "19                      NaN  \n",
       "20                      NaN  \n",
       "21                      NaN  \n",
       "22                      NaN  \n",
       "23                      NaN  \n",
       "24                      NaN  \n",
       "25                      NaN  \n",
       "26                      NaN  \n",
       "27                      NaN  \n",
       "28                      NaN  \n",
       "29                      NaN  \n",
       "...                     ...  \n",
       "2985187                 NaN  \n",
       "2985188                 NaN  \n",
       "2985189                 NaN  \n",
       "2985190                 NaN  \n",
       "2985191                 NaN  \n",
       "2985192                 NaN  \n",
       "2985193                 NaN  \n",
       "2985194                 NaN  \n",
       "2985195                 NaN  \n",
       "2985196                 NaN  \n",
       "2985197                 NaN  \n",
       "2985198                 NaN  \n",
       "2985199                 NaN  \n",
       "2985200                 NaN  \n",
       "2985201                 NaN  \n",
       "2985202                 NaN  \n",
       "2985203                 NaN  \n",
       "2985204                 NaN  \n",
       "2985205                 NaN  \n",
       "2985206                 NaN  \n",
       "2985207                 NaN  \n",
       "2985208                 NaN  \n",
       "2985209                 NaN  \n",
       "2985210                 NaN  \n",
       "2985211                 NaN  \n",
       "2985212                 NaN  \n",
       "2985213                 NaN  \n",
       "2985214                 NaN  \n",
       "2985215                 NaN  \n",
       "2985216                 NaN  \n",
       "\n",
       "[2985217 rows x 38 columns]>"
      ]
     },
     "execution_count": 32,
     "metadata": {},
     "output_type": "execute_result"
    }
   ],
   "source": [
    "property_data.head"
   ]
  },
  {
   "cell_type": "markdown",
   "metadata": {},
   "source": [
    "#### Light BGM"
   ]
  },
  {
   "cell_type": "code",
   "execution_count": 71,
   "metadata": {},
   "outputs": [],
   "source": [
    "# Parameters\n",
    "XGB_WEIGHT = 0.6500\n",
    "BASELINE_WEIGHT = 0.0056\n",
    "\n",
    "BASELINE_PRED = 0.0115"
   ]
  },
  {
   "cell_type": "code",
   "execution_count": 72,
   "metadata": {},
   "outputs": [],
   "source": [
    "import numpy as np\n",
    "import pandas as pd\n",
    "import xgboost as xgb\n",
    "from sklearn.preprocessing import LabelEncoder\n",
    "import lightgbm as lgb\n",
    "import gc"
   ]
  },
  {
   "cell_type": "code",
   "execution_count": 109,
   "metadata": {},
   "outputs": [
    {
     "name": "stderr",
     "output_type": "stream",
     "text": [
      "C:\\Users\\myang\\Anaconda3\\lib\\site-packages\\IPython\\core\\interactiveshell.py:2785: DtypeWarning: Columns (22,32,34,49,55) have mixed types. Specify dtype option on import or set low_memory=False.\n",
      "  interactivity=interactivity, compiler=compiler, result=result)\n"
     ]
    }
   ],
   "source": [
    "# READ IN RAW DATA\n",
    "prop = pd.read_csv('C:/Users/myang/Desktop/Zillow-Data-Analysis-master/Data/properties_2016.csv')\n",
    "train = pd.read_csv(\"C:/Users/myang/Desktop/Zillow-Data-Analysis-master/Data/train_2016_v2.csv\")"
   ]
  },
  {
   "cell_type": "code",
   "execution_count": 88,
   "metadata": {},
   "outputs": [],
   "source": [
    "# #Processing data for LightGBM\n",
    "# for c, dtype in zip(prop.columns, prop.dtypes):\n",
    "#     if dtype == np.float64:\n",
    "#         prop[c] = prop[c].astype(np.float32)"
   ]
  },
  {
   "cell_type": "code",
   "execution_count": 110,
   "metadata": {},
   "outputs": [],
   "source": [
    "df_train = train.merge(prop, how='left', on='parcelid')\n",
    "df_train.fillna(df_train.median(),inplace = True)"
   ]
  },
  {
   "cell_type": "code",
   "execution_count": 108,
   "metadata": {},
   "outputs": [
    {
     "ename": "KeyError",
     "evalue": "\"['propertyzoningdesc' 'propertycountylandusecode' 'fireplacecnt'] not found in axis\"",
     "output_type": "error",
     "traceback": [
      "\u001b[1;31m---------------------------------------------------------------------------\u001b[0m",
      "\u001b[1;31mKeyError\u001b[0m                                  Traceback (most recent call last)",
      "\u001b[1;32m<ipython-input-108-29ad65218f1f>\u001b[0m in \u001b[0;36m<module>\u001b[1;34m()\u001b[0m\n\u001b[0;32m      1\u001b[0m x_train = df_train.drop(['parcelid', 'logerror', 'transactiondate', 'propertyzoningdesc', \n\u001b[1;32m----> 2\u001b[1;33m                          'propertycountylandusecode', 'fireplacecnt'], axis=1)\n\u001b[0m\u001b[0;32m      3\u001b[0m \u001b[0my_train\u001b[0m \u001b[1;33m=\u001b[0m \u001b[0mdf_train\u001b[0m\u001b[1;33m[\u001b[0m\u001b[1;34m'logerror'\u001b[0m\u001b[1;33m]\u001b[0m\u001b[1;33m.\u001b[0m\u001b[0mvalues\u001b[0m\u001b[1;33m\u001b[0m\u001b[0m\n\u001b[0;32m      4\u001b[0m \u001b[0mprint\u001b[0m\u001b[1;33m(\u001b[0m\u001b[0mx_train\u001b[0m\u001b[1;33m.\u001b[0m\u001b[0mshape\u001b[0m\u001b[1;33m,\u001b[0m \u001b[0my_train\u001b[0m\u001b[1;33m.\u001b[0m\u001b[0mshape\u001b[0m\u001b[1;33m)\u001b[0m\u001b[1;33m\u001b[0m\u001b[0m\n",
      "\u001b[1;32m~\\Anaconda3\\lib\\site-packages\\pandas\\core\\frame.py\u001b[0m in \u001b[0;36mdrop\u001b[1;34m(self, labels, axis, index, columns, level, inplace, errors)\u001b[0m\n\u001b[0;32m   3695\u001b[0m                                            \u001b[0mindex\u001b[0m\u001b[1;33m=\u001b[0m\u001b[0mindex\u001b[0m\u001b[1;33m,\u001b[0m \u001b[0mcolumns\u001b[0m\u001b[1;33m=\u001b[0m\u001b[0mcolumns\u001b[0m\u001b[1;33m,\u001b[0m\u001b[1;33m\u001b[0m\u001b[0m\n\u001b[0;32m   3696\u001b[0m                                            \u001b[0mlevel\u001b[0m\u001b[1;33m=\u001b[0m\u001b[0mlevel\u001b[0m\u001b[1;33m,\u001b[0m \u001b[0minplace\u001b[0m\u001b[1;33m=\u001b[0m\u001b[0minplace\u001b[0m\u001b[1;33m,\u001b[0m\u001b[1;33m\u001b[0m\u001b[0m\n\u001b[1;32m-> 3697\u001b[1;33m                                            errors=errors)\n\u001b[0m\u001b[0;32m   3698\u001b[0m \u001b[1;33m\u001b[0m\u001b[0m\n\u001b[0;32m   3699\u001b[0m     @rewrite_axis_style_signature('mapper', [('copy', True),\n",
      "\u001b[1;32m~\\Anaconda3\\lib\\site-packages\\pandas\\core\\generic.py\u001b[0m in \u001b[0;36mdrop\u001b[1;34m(self, labels, axis, index, columns, level, inplace, errors)\u001b[0m\n\u001b[0;32m   3109\u001b[0m         \u001b[1;32mfor\u001b[0m \u001b[0maxis\u001b[0m\u001b[1;33m,\u001b[0m \u001b[0mlabels\u001b[0m \u001b[1;32min\u001b[0m \u001b[0maxes\u001b[0m\u001b[1;33m.\u001b[0m\u001b[0mitems\u001b[0m\u001b[1;33m(\u001b[0m\u001b[1;33m)\u001b[0m\u001b[1;33m:\u001b[0m\u001b[1;33m\u001b[0m\u001b[0m\n\u001b[0;32m   3110\u001b[0m             \u001b[1;32mif\u001b[0m \u001b[0mlabels\u001b[0m \u001b[1;32mis\u001b[0m \u001b[1;32mnot\u001b[0m \u001b[1;32mNone\u001b[0m\u001b[1;33m:\u001b[0m\u001b[1;33m\u001b[0m\u001b[0m\n\u001b[1;32m-> 3111\u001b[1;33m                 \u001b[0mobj\u001b[0m \u001b[1;33m=\u001b[0m \u001b[0mobj\u001b[0m\u001b[1;33m.\u001b[0m\u001b[0m_drop_axis\u001b[0m\u001b[1;33m(\u001b[0m\u001b[0mlabels\u001b[0m\u001b[1;33m,\u001b[0m \u001b[0maxis\u001b[0m\u001b[1;33m,\u001b[0m \u001b[0mlevel\u001b[0m\u001b[1;33m=\u001b[0m\u001b[0mlevel\u001b[0m\u001b[1;33m,\u001b[0m \u001b[0merrors\u001b[0m\u001b[1;33m=\u001b[0m\u001b[0merrors\u001b[0m\u001b[1;33m)\u001b[0m\u001b[1;33m\u001b[0m\u001b[0m\n\u001b[0m\u001b[0;32m   3112\u001b[0m \u001b[1;33m\u001b[0m\u001b[0m\n\u001b[0;32m   3113\u001b[0m         \u001b[1;32mif\u001b[0m \u001b[0minplace\u001b[0m\u001b[1;33m:\u001b[0m\u001b[1;33m\u001b[0m\u001b[0m\n",
      "\u001b[1;32m~\\Anaconda3\\lib\\site-packages\\pandas\\core\\generic.py\u001b[0m in \u001b[0;36m_drop_axis\u001b[1;34m(self, labels, axis, level, errors)\u001b[0m\n\u001b[0;32m   3141\u001b[0m                 \u001b[0mnew_axis\u001b[0m \u001b[1;33m=\u001b[0m \u001b[0maxis\u001b[0m\u001b[1;33m.\u001b[0m\u001b[0mdrop\u001b[0m\u001b[1;33m(\u001b[0m\u001b[0mlabels\u001b[0m\u001b[1;33m,\u001b[0m \u001b[0mlevel\u001b[0m\u001b[1;33m=\u001b[0m\u001b[0mlevel\u001b[0m\u001b[1;33m,\u001b[0m \u001b[0merrors\u001b[0m\u001b[1;33m=\u001b[0m\u001b[0merrors\u001b[0m\u001b[1;33m)\u001b[0m\u001b[1;33m\u001b[0m\u001b[0m\n\u001b[0;32m   3142\u001b[0m             \u001b[1;32melse\u001b[0m\u001b[1;33m:\u001b[0m\u001b[1;33m\u001b[0m\u001b[0m\n\u001b[1;32m-> 3143\u001b[1;33m                 \u001b[0mnew_axis\u001b[0m \u001b[1;33m=\u001b[0m \u001b[0maxis\u001b[0m\u001b[1;33m.\u001b[0m\u001b[0mdrop\u001b[0m\u001b[1;33m(\u001b[0m\u001b[0mlabels\u001b[0m\u001b[1;33m,\u001b[0m \u001b[0merrors\u001b[0m\u001b[1;33m=\u001b[0m\u001b[0merrors\u001b[0m\u001b[1;33m)\u001b[0m\u001b[1;33m\u001b[0m\u001b[0m\n\u001b[0m\u001b[0;32m   3144\u001b[0m             \u001b[0mresult\u001b[0m \u001b[1;33m=\u001b[0m \u001b[0mself\u001b[0m\u001b[1;33m.\u001b[0m\u001b[0mreindex\u001b[0m\u001b[1;33m(\u001b[0m\u001b[1;33m**\u001b[0m\u001b[1;33m{\u001b[0m\u001b[0maxis_name\u001b[0m\u001b[1;33m:\u001b[0m \u001b[0mnew_axis\u001b[0m\u001b[1;33m}\u001b[0m\u001b[1;33m)\u001b[0m\u001b[1;33m\u001b[0m\u001b[0m\n\u001b[0;32m   3145\u001b[0m \u001b[1;33m\u001b[0m\u001b[0m\n",
      "\u001b[1;32m~\\Anaconda3\\lib\\site-packages\\pandas\\core\\indexes\\base.py\u001b[0m in \u001b[0;36mdrop\u001b[1;34m(self, labels, errors)\u001b[0m\n\u001b[0;32m   4402\u001b[0m             \u001b[1;32mif\u001b[0m \u001b[0merrors\u001b[0m \u001b[1;33m!=\u001b[0m \u001b[1;34m'ignore'\u001b[0m\u001b[1;33m:\u001b[0m\u001b[1;33m\u001b[0m\u001b[0m\n\u001b[0;32m   4403\u001b[0m                 raise KeyError(\n\u001b[1;32m-> 4404\u001b[1;33m                     '{} not found in axis'.format(labels[mask]))\n\u001b[0m\u001b[0;32m   4405\u001b[0m             \u001b[0mindexer\u001b[0m \u001b[1;33m=\u001b[0m \u001b[0mindexer\u001b[0m\u001b[1;33m[\u001b[0m\u001b[1;33m~\u001b[0m\u001b[0mmask\u001b[0m\u001b[1;33m]\u001b[0m\u001b[1;33m\u001b[0m\u001b[0m\n\u001b[0;32m   4406\u001b[0m         \u001b[1;32mreturn\u001b[0m \u001b[0mself\u001b[0m\u001b[1;33m.\u001b[0m\u001b[0mdelete\u001b[0m\u001b[1;33m(\u001b[0m\u001b[0mindexer\u001b[0m\u001b[1;33m)\u001b[0m\u001b[1;33m\u001b[0m\u001b[0m\n",
      "\u001b[1;31mKeyError\u001b[0m: \"['propertyzoningdesc' 'propertycountylandusecode' 'fireplacecnt'] not found in axis\""
     ]
    }
   ],
   "source": [
    "# x_train = df_train.drop(['parcelid', 'logerror', 'transactiondate', 'propertyzoningdesc', \n",
    "#                          'propertycountylandusecode', 'fireplacecnt'], axis=1)\n",
    "# y_train = df_train['logerror'].values\n",
    "# print(x_train.shape, y_train.shape)"
   ]
  },
  {
   "cell_type": "code",
   "execution_count": 111,
   "metadata": {},
   "outputs": [],
   "source": [
    "def MAE(y, ypred):\n",
    "    \n",
    "    #logerror=log(Zestimate)−log(SalePrice)\n",
    "    return np.sum([abs(y[i]-ypred[i]) for i in range(len(y))]) / len(y)"
   ]
  },
  {
   "cell_type": "code",
   "execution_count": 112,
   "metadata": {},
   "outputs": [],
   "source": [
    "overSampleTestMonths = False\n",
    "underSampleElseMonths = False"
   ]
  },
  {
   "cell_type": "code",
   "execution_count": 113,
   "metadata": {},
   "outputs": [],
   "source": [
    "testMonths = [10, 11, 12]"
   ]
  },
  {
   "cell_type": "code",
   "execution_count": 114,
   "metadata": {},
   "outputs": [],
   "source": [
    "minoritySampleRate = 0.10\n",
    "majorityReductionRate = 0.2"
   ]
  },
  {
   "cell_type": "code",
   "execution_count": 115,
   "metadata": {},
   "outputs": [],
   "source": [
    "trainTestMonths = 0.5 # Set to 1 for no validation\n",
    "trainElseMonths = 0.8 # Set to 1 for no validation"
   ]
  },
  {
   "cell_type": "code",
   "execution_count": 116,
   "metadata": {},
   "outputs": [],
   "source": [
    "trainValid = (df_train.assign(transactiondate = lambda x: pd.to_datetime(x['transactiondate'])).assign(trans_month = lambda x: x['transactiondate'].dt.month))"
   ]
  },
  {
   "cell_type": "code",
   "execution_count": 117,
   "metadata": {},
   "outputs": [],
   "source": [
    "trainTestMonths = (trainValid.loc[trainValid['trans_month'].isin(testMonths)].sample(frac = trainTestMonths).index.values)"
   ]
  },
  {
   "cell_type": "code",
   "execution_count": 118,
   "metadata": {},
   "outputs": [],
   "source": [
    "trainElseMonths = (trainValid.loc[~trainValid['trans_month'].isin(testMonths)].sample(frac = trainElseMonths).index.values)"
   ]
  },
  {
   "cell_type": "code",
   "execution_count": 119,
   "metadata": {},
   "outputs": [],
   "source": [
    "trainIdx = np.append(trainTestMonths, trainElseMonths)"
   ]
  },
  {
   "cell_type": "code",
   "execution_count": 120,
   "metadata": {},
   "outputs": [],
   "source": [
    "trainValid = trainValid.drop('trans_month', axis = 1)"
   ]
  },
  {
   "cell_type": "code",
   "execution_count": 121,
   "metadata": {},
   "outputs": [],
   "source": [
    "train = trainValid.loc[trainIdx, :]"
   ]
  },
  {
   "cell_type": "code",
   "execution_count": 122,
   "metadata": {},
   "outputs": [],
   "source": [
    "valid = trainValid[np.logical_not(trainValid.index.isin(trainIdx))]"
   ]
  },
  {
   "cell_type": "code",
   "execution_count": 123,
   "metadata": {},
   "outputs": [
    {
     "name": "stdout",
     "output_type": "stream",
     "text": [
      "(20618, 54) (20618,)\n"
     ]
    }
   ],
   "source": [
    "x_valid = valid.drop(['parcelid', 'logerror', 'transactiondate', 'propertyzoningdesc', \n",
    "                         'propertycountylandusecode', 'fireplacecnt'], axis=1)\n",
    "y_valid = valid['logerror'].values\n",
    "print(x_valid.shape, y_valid.shape)"
   ]
  },
  {
   "cell_type": "code",
   "execution_count": 129,
   "metadata": {},
   "outputs": [
    {
     "ename": "AttributeError",
     "evalue": "'numpy.ndarray' object has no attribute 'columns'",
     "output_type": "error",
     "traceback": [
      "\u001b[1;31m---------------------------------------------------------------------------\u001b[0m",
      "\u001b[1;31mAttributeError\u001b[0m                            Traceback (most recent call last)",
      "\u001b[1;32m<ipython-input-129-32f953fd3fa3>\u001b[0m in \u001b[0;36m<module>\u001b[1;34m()\u001b[0m\n\u001b[1;32m----> 1\u001b[1;33m \u001b[0mtrain_columns\u001b[0m \u001b[1;33m=\u001b[0m \u001b[0mx_valid\u001b[0m\u001b[1;33m.\u001b[0m\u001b[0mcolumns\u001b[0m\u001b[1;33m\u001b[0m\u001b[0m\n\u001b[0m\u001b[0;32m      2\u001b[0m \u001b[1;33m\u001b[0m\u001b[0m\n\u001b[0;32m      3\u001b[0m \u001b[1;32mfor\u001b[0m \u001b[0mc\u001b[0m \u001b[1;32min\u001b[0m \u001b[0mx_valid\u001b[0m\u001b[1;33m.\u001b[0m\u001b[0mdtypes\u001b[0m\u001b[1;33m[\u001b[0m\u001b[0mx_valid\u001b[0m\u001b[1;33m.\u001b[0m\u001b[0mdtypes\u001b[0m \u001b[1;33m==\u001b[0m \u001b[0mobject\u001b[0m\u001b[1;33m]\u001b[0m\u001b[1;33m.\u001b[0m\u001b[0mindex\u001b[0m\u001b[1;33m.\u001b[0m\u001b[0mvalues\u001b[0m\u001b[1;33m:\u001b[0m\u001b[1;33m\u001b[0m\u001b[0m\n\u001b[0;32m      4\u001b[0m     \u001b[0mx_valid\u001b[0m\u001b[1;33m[\u001b[0m\u001b[0mc\u001b[0m\u001b[1;33m]\u001b[0m \u001b[1;33m=\u001b[0m \u001b[1;33m(\u001b[0m\u001b[0mx_valid\u001b[0m\u001b[1;33m[\u001b[0m\u001b[0mc\u001b[0m\u001b[1;33m]\u001b[0m \u001b[1;33m==\u001b[0m \u001b[1;32mTrue\u001b[0m\u001b[1;33m)\u001b[0m\u001b[1;33m\u001b[0m\u001b[0m\n\u001b[0;32m      5\u001b[0m \u001b[1;33m\u001b[0m\u001b[0m\n",
      "\u001b[1;31mAttributeError\u001b[0m: 'numpy.ndarray' object has no attribute 'columns'"
     ]
    }
   ],
   "source": [
    "train_columns = x_valid.columns\n",
    "\n",
    "for c in x_valid.dtypes[x_valid.dtypes == object].index.values:\n",
    "    x_valid[c] = (x_valid[c] == True)\n",
    "\n",
    "x_valid = x_valid.values.astype(np.float32, copy=False)\n",
    "d_train = lgb.Dataset(x_valid, label=y_valid)"
   ]
  },
  {
   "cell_type": "code",
   "execution_count": 126,
   "metadata": {},
   "outputs": [],
   "source": [
    "params = {}\n",
    "params['learning_rate'] = 0.002\n",
    "params['boosting_type'] = 'gbdt'\n",
    "params['objective'] = 'regression'\n",
    "params['metric'] = 'mae'\n",
    "params['sub_feature'] = 0.5\n",
    "params['num_leaves'] = 60\n",
    "params['min_data'] = 500\n",
    "params['min_hessian'] = 1"
   ]
  },
  {
   "cell_type": "code",
   "execution_count": 131,
   "metadata": {},
   "outputs": [],
   "source": [
    "clf = lgb.train(params, d_train, 1000)"
   ]
  },
  {
   "cell_type": "code",
   "execution_count": 133,
   "metadata": {},
   "outputs": [
    {
     "name": "stdout",
     "output_type": "stream",
     "text": [
      "0.06707\n"
     ]
    }
   ],
   "source": [
    "y_pred = clf.predict(x_valid, num_iteration=clf.best_iteration)\n",
    "cvAcc = round(MAE(y_valid, y_pred), 5)\n",
    "print(cvAcc)"
   ]
  },
  {
   "cell_type": "code",
   "execution_count": 134,
   "metadata": {},
   "outputs": [],
   "source": [
    "# Running grid search on parameters\n",
    "estimator = lgb.LGBMRegressor(num_leaves=31)"
   ]
  },
  {
   "cell_type": "code",
   "execution_count": 135,
   "metadata": {},
   "outputs": [],
   "source": [
    "param_grid = {'learning_rate': [0.01, 0.1, 1],'n_estimators': [20, 40]}"
   ]
  },
  {
   "cell_type": "code",
   "execution_count": 136,
   "metadata": {},
   "outputs": [],
   "source": [
    "from sklearn.model_selection import GridSearchCV\n",
    "gbm = GridSearchCV(estimator, param_grid)"
   ]
  },
  {
   "cell_type": "code",
   "execution_count": 137,
   "metadata": {},
   "outputs": [
    {
     "name": "stderr",
     "output_type": "stream",
     "text": [
      "C:\\Users\\myang\\Anaconda3\\lib\\site-packages\\sklearn\\model_selection\\_split.py:1943: FutureWarning: You should specify a value for 'cv' instead of relying on the default value. The default value will change from 3 to 5 in version 0.22.\n",
      "  warnings.warn(CV_WARNING, FutureWarning)\n"
     ]
    },
    {
     "data": {
      "text/plain": [
       "GridSearchCV(cv='warn', error_score='raise-deprecating',\n",
       "       estimator=LGBMRegressor(boosting_type='gbdt', class_weight=None, colsample_bytree=1.0,\n",
       "       importance_type='split', learning_rate=0.1, max_depth=-1,\n",
       "       min_child_samples=20, min_child_weight=0.001, min_split_gain=0.0,\n",
       "       n_estimators=100, n_jobs=-1, num_leaves=31, objective=None,\n",
       "       random_state=None, reg_alpha=0.0, reg_lambda=0.0, silent=True,\n",
       "       subsample=1.0, subsample_for_bin=200000, subsample_freq=0),\n",
       "       fit_params=None, iid='warn', n_jobs=None,\n",
       "       param_grid={'learning_rate': [0.01, 0.1, 1], 'n_estimators': [20, 40]},\n",
       "       pre_dispatch='2*n_jobs', refit=True, return_train_score='warn',\n",
       "       scoring=None, verbose=0)"
      ]
     },
     "execution_count": 137,
     "metadata": {},
     "output_type": "execute_result"
    }
   ],
   "source": [
    "gbm.fit(x_train, y_train)"
   ]
  },
  {
   "cell_type": "code",
   "execution_count": 138,
   "metadata": {},
   "outputs": [
    {
     "name": "stdout",
     "output_type": "stream",
     "text": [
      "Best parameters found by grid search are: {'learning_rate': 0.1, 'n_estimators': 20}\n"
     ]
    }
   ],
   "source": [
    "print('Best parameters found by grid search are:', gbm.best_params_)"
   ]
  },
  {
   "cell_type": "code",
   "execution_count": 99,
   "metadata": {},
   "outputs": [],
   "source": [
    "# train_columns = x_train.columns\n",
    "\n",
    "# for c in x_train.dtypes[x_train.dtypes == object].index.values:\n",
    "#     x_train[c] = (x_train[c] == True)\n",
    "\n",
    "# del df_train; gc.collect()\n",
    "\n",
    "# x_train = x_train.values.astype(np.float32, copy=False)\n",
    "# d_train = lgb.Dataset(x_train, label=y_train)"
   ]
  },
  {
   "cell_type": "code",
   "execution_count": 78,
   "metadata": {},
   "outputs": [
    {
     "name": "stdout",
     "output_type": "stream",
     "text": [
      "\n",
      "Fitting LightGBM model ...\n",
      "\n",
      "Prepare for LightGBM prediction ...\n",
      "   Read sample file ...\n",
      "   ...\n",
      "   Merge with property data ...\n",
      "   ...\n",
      "   ...\n",
      "   ...\n",
      "   Preparing x_test...\n",
      "   ...\n",
      "\n",
      "Start LightGBM prediction ...\n",
      "\n",
      "Unadjusted LightGBM predictions:\n",
      "          0\n",
      "0  0.037452\n",
      "1  0.039983\n",
      "2  0.011359\n",
      "3  0.008894\n",
      "4  0.008427\n"
     ]
    }
   ],
   "source": [
    "# ##### RUN LIGHTGBM\n",
    "\n",
    "# params = {}\n",
    "# params['max_bin'] = 10\n",
    "# params['learning_rate'] = 0.0021 # shrinkage_rate\n",
    "# params['boosting_type'] = 'gbdt'\n",
    "# params['objective'] = 'regression'\n",
    "# params['metric'] = 'l1'          # or 'mae'\n",
    "# params['sub_feature'] = 0.5      # feature_fraction -- OK, back to .5, but maybe later increase this\n",
    "# params['bagging_fraction'] = 0.85 # sub_row\n",
    "# params['bagging_freq'] = 40\n",
    "# params['num_leaves'] = 512        # num_leaf\n",
    "# params['min_data'] = 500         # min_data_in_leaf\n",
    "# params['min_hessian'] = 0.05     # min_sum_hessian_in_leaf\n",
    "# params['verbose'] = 0\n",
    "\n",
    "# print(\"\\nFitting LightGBM model ...\")\n",
    "# clf = lgb.train(params, d_train, 430)\n",
    "\n",
    "# print(\"\\nPrepare for LightGBM prediction ...\")\n",
    "# print(\"   Read sample file ...\")\n",
    "# sample = pd.read_csv('C:/Users/myang/Desktop/Zillow-Data-Analysis-master/Data/sample_submission.csv')\n",
    "# print(\"   ...\")\n",
    "# sample['parcelid'] = sample['ParcelId']\n",
    "# print(\"   Merge with property data ...\")\n",
    "# df_test = sample.merge(prop, on='parcelid', how='left')\n",
    "# print(\"   ...\")\n",
    "# print(\"   ...\")\n",
    "# x_test = df_test[train_columns]\n",
    "# print(\"   ...\")\n",
    "# print(\"   Preparing x_test...\")\n",
    "# for c in x_test.dtypes[x_test.dtypes == object].index.values:\n",
    "#     x_test[c] = (x_test[c] == True)\n",
    "# print(\"   ...\")\n",
    "# x_test = x_test.values.astype(np.float32, copy=False)\n",
    "\n",
    "# print(\"\\nStart LightGBM prediction ...\")\n",
    "# # num_threads > 1 will predict very slow in kernal\n",
    "# clf.reset_parameter({\"num_threads\":1})\n",
    "# p_test = clf.predict(x_test)\n",
    "\n",
    "\n",
    "# print( \"\\nUnadjusted LightGBM predictions:\" )\n",
    "# print( pd.DataFrame(p_test).head() )"
   ]
  },
  {
   "cell_type": "code",
   "execution_count": null,
   "metadata": {},
   "outputs": [],
   "source": [
    "# ##### PROCESS DATA FOR XGBOOST\n",
    "\n",
    "# print( \"\\nProcessing data for XGBoost ...\")\n",
    "# for c in properties.columns:\n",
    "#     properties[c]=properties[c].fillna(-1)\n",
    "#     if properties[c].dtype == 'object':\n",
    "#         lbl = LabelEncoder()\n",
    "#         lbl.fit(list(properties[c].values))\n",
    "#         properties[c] = lbl.transform(list(properties[c].values))\n",
    "\n",
    "# train_df = train.merge(properties, how='left', on='parcelid')\n",
    "# x_train = train_df.drop(['parcelid', 'logerror','transactiondate'], axis=1)\n",
    "# x_test = properties.drop(['parcelid'], axis=1)\n",
    "# # shape        \n",
    "# print('Shape train: {}\\nShape test: {}'.format(x_train.shape, x_test.shape))\n",
    "\n",
    "# # drop out ouliers\n",
    "# train_df=train_df[ train_df.logerror > -0.4 ]\n",
    "# train_df=train_df[ train_df.logerror < 0.418 ]\n",
    "# x_train=train_df.drop(['parcelid', 'logerror','transactiondate'], axis=1)\n",
    "# y_train = train_df[\"logerror\"].values.astype(np.float32)\n",
    "# y_mean = np.mean(y_train)\n",
    "\n",
    "# print('After removing outliers:')     \n",
    "# print('Shape train: {}\\nShape test: {}'.format(x_train.shape, x_test.shape))\n"
   ]
  },
  {
   "cell_type": "code",
   "execution_count": null,
   "metadata": {},
   "outputs": [],
   "source": [
    "# ##### RUN XGBOOST\n",
    "\n",
    "# print(\"\\nSetting up data for XGBoost ...\")\n",
    "# # xgboost params\n",
    "# xgb_params = {\n",
    "#     'eta': 0.037,\n",
    "#     'max_depth': 5,\n",
    "#     'subsample': 0.80,\n",
    "#     'objective': 'reg:linear',\n",
    "#     'eval_metric': 'mae',\n",
    "#     'lambda': 0.8,   \n",
    "#     'alpha': 0.4, \n",
    "#     'base_score': y_mean,\n",
    "#     'silent': 1\n",
    "# }\n",
    "# # Enough with the ridiculously overfit parameters.\n",
    "# # I'm going back to my version 20 instead of copying Jayaraman.\n",
    "# # I want a num_boost_rounds that's chosen by my CV,\n",
    "# # not one that's chosen by overfitting the public leaderboard.\n",
    "# # (There may be underlying differences between the train and test data\n",
    "# #  that will affect some parameters, but they shouldn't affect that.)\n",
    "\n",
    "# dtrain = xgb.DMatrix(x_train, y_train)\n",
    "# dtest = xgb.DMatrix(x_test)\n",
    "\n",
    "# # cross-validation\n",
    "# #print( \"Running XGBoost CV ...\" )\n",
    "# #cv_result = xgb.cv(xgb_params, \n",
    "# #                   dtrain, \n",
    "# #                   nfold=5,\n",
    "# #                   num_boost_round=350,\n",
    "# #                   early_stopping_rounds=50,\n",
    "# #                   verbose_eval=10, \n",
    "# #                   show_stdv=False\n",
    "# #                  )\n",
    "# #num_boost_rounds = len(cv_result)\n",
    "\n",
    "# # num_boost_rounds = 150\n",
    "# num_boost_rounds = 242\n",
    "# print(\"\\nXGBoost tuned with CV in:\")\n",
    "# print(\"   https://www.kaggle.com/aharless/xgboost-without-outliers-tweak \")\n",
    "# print(\"num_boost_rounds=\"+str(num_boost_rounds))\n",
    "\n",
    "# # train model\n",
    "# print( \"\\nTraining XGBoost ...\")\n",
    "# model = xgb.train(dict(xgb_params, silent=1), dtrain, num_boost_round=num_boost_rounds)\n",
    "\n",
    "# print( \"\\nPredicting with XGBoost ...\")\n",
    "# xgb_pred = model.predict(dtest)\n",
    "\n",
    "# print( \"\\nXGBoost predictions:\" )\n",
    "# print( pd.DataFrame(xgb_pred).head() )"
   ]
  },
  {
   "cell_type": "code",
   "execution_count": null,
   "metadata": {},
   "outputs": [],
   "source": [
    "# ##### COMBINE PREDICTIONS\n",
    "\n",
    "# print( \"\\nCombining XGBoost, LightGBM, and baseline predicitons ...\" )\n",
    "# lgb_weight = 1 - XGB_WEIGHT - BASELINE_WEIGHT\n",
    "# pred = XGB_WEIGHT*xgb_pred + BASELINE_WEIGHT*BASELINE_PRED + lgb_weight*p_test\n",
    "\n",
    "# print( \"\\nCombined predictions:\" )\n",
    "# print( pd.DataFrame(pred).head() )\n",
    "\n",
    "\n",
    "\n",
    "# ##### WRITE THE RESULTS\n",
    "\n",
    "# print( \"\\nPreparing results for write ...\" )\n",
    "# y_pred=[]\n",
    "\n",
    "# for i,predict in enumerate(pred):\n",
    "#     y_pred.append(str(round(predict,4)))\n",
    "# y_pred=np.array(y_pred)\n",
    "\n",
    "# output = pd.DataFrame({'ParcelId': properties['parcelid'].astype(np.int32),\n",
    "#         '201610': y_pred, '201611': y_pred, '201612': y_pred,\n",
    "#         '201710': y_pred, '201711': y_pred, '201712': y_pred})\n",
    "# # set col 'ParceID' to first col\n",
    "# cols = output.columns.tolist()\n",
    "# cols = cols[-1:] + cols[:-1]\n",
    "# output = output[cols]\n",
    "# from datetime import datetime\n",
    "\n",
    "# print( \"\\nWriting results to disk ...\" )\n",
    "# output.to_csv('sub{}.csv'.format(datetime.now().strftime('%Y%m%d_%H%M%S')), index=False)\n",
    "\n",
    "# print( \"\\nFinished ...\" )"
   ]
  }
 ],
 "metadata": {
  "kernelspec": {
   "display_name": "Python 3",
   "language": "python",
   "name": "python3"
  },
  "language_info": {
   "codemirror_mode": {
    "name": "ipython",
    "version": 3
   },
   "file_extension": ".py",
   "mimetype": "text/x-python",
   "name": "python",
   "nbconvert_exporter": "python",
   "pygments_lexer": "ipython3",
   "version": "3.7.0"
  }
 },
 "nbformat": 4,
 "nbformat_minor": 2
}
