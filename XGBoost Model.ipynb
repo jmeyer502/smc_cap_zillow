{
 "cells": [
  {
   "cell_type": "code",
   "execution_count": 1,
   "metadata": {},
   "outputs": [
    {
     "name": "stdout",
     "output_type": "stream",
     "text": [
      "Requirement already satisfied: xgboost in c:\\programdata\\anaconda3\\lib\\site-packages (0.81)\n",
      "Requirement already satisfied: numpy in c:\\programdata\\anaconda3\\lib\\site-packages (from xgboost) (1.14.3)\n",
      "Requirement already satisfied: scipy in c:\\programdata\\anaconda3\\lib\\site-packages (from xgboost) (1.1.0)\n"
     ]
    },
    {
     "name": "stderr",
     "output_type": "stream",
     "text": [
      "distributed 1.21.8 requires msgpack, which is not installed.\n",
      "You are using pip version 10.0.1, however version 18.1 is available.\n",
      "You should consider upgrading via the 'python -m pip install --upgrade pip' command.\n"
     ]
    }
   ],
   "source": [
    "import sys\n",
    "!{sys.executable} -m pip install xgboost"
   ]
  },
  {
   "cell_type": "code",
   "execution_count": 1,
   "metadata": {},
   "outputs": [],
   "source": [
    "# import libraries\n",
    "\n",
    "import pandas as pd\n",
    "from pandas import set_option\n",
    "import matplotlib.pyplot as plt\n",
    "import seaborn as sns\n",
    "import numpy as np\n",
    "from sklearn.model_selection import train_test_split\n",
    "\n",
    "from sklearn.linear_model import LinearRegression\n",
    "from sklearn import model_selection\n",
    "import scipy as sy\n",
    "from sklearn.preprocessing import OneHotEncoder\n",
    "from sklearn import neighbors\n",
    "\n",
    "from sklearn.feature_selection import RFE, f_regression\n",
    "from sklearn.linear_model import (LinearRegression, Ridge, Lasso, RandomizedLasso)\n",
    "from sklearn.ensemble import RandomForestRegressor\n",
    "from xgboost import XGBRegressor\n",
    "from sklearn.model_selection import KFold, train_test_split, GridSearchCV\n",
    "from sklearn.metrics import mean_squared_error\n",
    "from sklearn.metrics import mean_absolute_error"
   ]
  },
  {
   "cell_type": "code",
   "execution_count": 2,
   "metadata": {},
   "outputs": [],
   "source": [
    "# read train_data files\n",
    "train_data_2016 = pd.read_csv(\"C:/Users/Deepika Keswarap/Documents/projecta/all/Zillowdata2016.csv\")\n",
    "# read train_data file\n",
    "train_data_2017 = pd.read_csv(\"C:/Users/Deepika Keswarap/Documents/projecta/all/Zillowdata2017.csv\")"
   ]
  },
  {
   "cell_type": "code",
   "execution_count": 3,
   "metadata": {},
   "outputs": [],
   "source": [
    "# split the dependent and indepandent variables\n",
    "X = train_data_2016.drop('logerror',axis = 1)\n",
    "y = train_data_2016['logerror'].values.astype(np.float64)\n",
    "\n",
    "# split test and train data\n",
    "x_train,x_test,y_train,y_test = train_test_split(X,y,test_size=0.70,random_state=100)\n"
   ]
  },
  {
   "cell_type": "code",
   "execution_count": 4,
   "metadata": {},
   "outputs": [],
   "source": [
    "model = XGBRegressor()\n",
    "xgb = model.fit(x_train, y_train)"
   ]
  },
  {
   "cell_type": "code",
   "execution_count": 5,
   "metadata": {},
   "outputs": [
    {
     "name": "stdout",
     "output_type": "stream",
     "text": [
      "MSE: 0.026237\n",
      "MAE: 0.069369\n"
     ]
    }
   ],
   "source": [
    "preds = xgb.predict(x_test)\n",
    "mse = mean_squared_error(y_test, preds)\n",
    "print(\"MSE: %f\" % mse)\n",
    "\n",
    "mae = mean_absolute_error(y_test, preds)\n",
    "print(\"MAE: %f\" % mae)"
   ]
  },
  {
   "cell_type": "code",
   "execution_count": 6,
   "metadata": {},
   "outputs": [],
   "source": [
    "model = XGBRegressor(colsample_bytree = 0.7,subsample=0.8,\n",
    "                max_depth = 10, alpha = 10, booster='dart')\n",
    "xgb = model.fit(x_train, y_train)"
   ]
  },
  {
   "cell_type": "code",
   "execution_count": 7,
   "metadata": {},
   "outputs": [
    {
     "name": "stdout",
     "output_type": "stream",
     "text": [
      "MSE: 0.027164\n",
      "MAE: 0.073184\n"
     ]
    }
   ],
   "source": [
    "preds = xgb.predict(x_test)\n",
    "mse = mean_squared_error(y_test, preds)\n",
    "print(\"MSE: %f\" % mse)\n",
    "\n",
    "mae = mean_absolute_error(y_test, preds)\n",
    "print(\"MAE: %f\" % mae)"
   ]
  },
  {
   "cell_type": "code",
   "execution_count": null,
   "metadata": {},
   "outputs": [
    {
     "name": "stdout",
     "output_type": "stream",
     "text": [
      "Fitting 3 folds for each of 9 candidates, totalling 27 fits\n"
     ]
    }
   ],
   "source": [
    "clf = GridSearchCV(xgb,\n",
    "\n",
    "                   {'max_depth': [2,4,6],\n",
    "\n",
    "                    'n_estimators': [50,100,200]}, verbose=1)\n",
    "\n",
    "clf.fit(x_train,y_train)\n",
    "\n",
    "print(clf.best_score_)\n",
    "\n",
    "print(clf.best_params_)"
   ]
  },
  {
   "cell_type": "code",
   "execution_count": null,
   "metadata": {},
   "outputs": [],
   "source": []
  }
 ],
 "metadata": {
  "kernelspec": {
   "display_name": "Python 3",
   "language": "python",
   "name": "python3"
  },
  "language_info": {
   "codemirror_mode": {
    "name": "ipython",
    "version": 3
   },
   "file_extension": ".py",
   "mimetype": "text/x-python",
   "name": "python",
   "nbconvert_exporter": "python",
   "pygments_lexer": "ipython3",
   "version": "3.6.5"
  }
 },
 "nbformat": 4,
 "nbformat_minor": 2
}
