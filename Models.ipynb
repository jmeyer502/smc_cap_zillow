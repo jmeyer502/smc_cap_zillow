{
 "cells": [
  {
   "cell_type": "code",
   "execution_count": 1,
   "metadata": {},
   "outputs": [],
   "source": [
    "# import libraries\n",
    "\n",
    "import pandas as pd\n",
    "from pandas import set_option\n",
    "import matplotlib.pyplot as plt\n",
    "import seaborn as sns\n",
    "import numpy as np\n",
    "from sklearn.model_selection import train_test_split\n",
    "\n",
    "from sklearn.linear_model import LinearRegression\n",
    "from sklearn import model_selection\n",
    "import scipy as sy\n",
    "from sklearn.preprocessing import OneHotEncoder\n",
    "from sklearn import neighbors\n",
    "\n",
    "from sklearn.feature_selection import RFE, f_regression\n",
    "from sklearn.linear_model import (LinearRegression, Ridge, Lasso, RandomizedLasso)"
   ]
  },
  {
   "cell_type": "code",
   "execution_count": 2,
   "metadata": {},
   "outputs": [],
   "source": [
    "# read train_data files\n",
    "train_data_2016 = pd.read_csv(\"C:/Users/Deepika Keswarap/Documents/projecta/all/imputation/data2016.csv\")\n",
    "# read train_data file\n",
    "train_data_2017 = pd.read_csv(\"C:/Users/Deepika Keswarap/Documents/projecta/all/imputation/data2017.csv\")"
   ]
  },
  {
   "cell_type": "code",
   "execution_count": 3,
   "metadata": {},
   "outputs": [
    {
     "data": {
      "text/html": [
       "<div>\n",
       "<style scoped>\n",
       "    .dataframe tbody tr th:only-of-type {\n",
       "        vertical-align: middle;\n",
       "    }\n",
       "\n",
       "    .dataframe tbody tr th {\n",
       "        vertical-align: top;\n",
       "    }\n",
       "\n",
       "    .dataframe thead th {\n",
       "        text-align: right;\n",
       "    }\n",
       "</style>\n",
       "<table border=\"1\" class=\"dataframe\">\n",
       "  <thead>\n",
       "    <tr style=\"text-align: right;\">\n",
       "      <th></th>\n",
       "      <th>logerror</th>\n",
       "      <th>airconditioningtypeid</th>\n",
       "      <th>basementsqft</th>\n",
       "      <th>bathroomcnt</th>\n",
       "      <th>bedroomcnt</th>\n",
       "      <th>buildingqualitytypeid</th>\n",
       "      <th>calculatedbathnbr</th>\n",
       "      <th>decktypeid</th>\n",
       "      <th>calculatedfinishedsquarefeet</th>\n",
       "      <th>finishedsquarefeet15</th>\n",
       "      <th>...</th>\n",
       "      <th>yearbuilt</th>\n",
       "      <th>numberofstories</th>\n",
       "      <th>fireplaceflag</th>\n",
       "      <th>structuretaxvaluedollarcnt</th>\n",
       "      <th>taxvaluedollarcnt</th>\n",
       "      <th>assessmentyear</th>\n",
       "      <th>landtaxvaluedollarcnt</th>\n",
       "      <th>taxdelinquencyflag</th>\n",
       "      <th>taxpercentage</th>\n",
       "      <th>transaction_quarter</th>\n",
       "    </tr>\n",
       "  </thead>\n",
       "  <tbody>\n",
       "  </tbody>\n",
       "</table>\n",
       "<p>0 rows × 42 columns</p>\n",
       "</div>"
      ],
      "text/plain": [
       "Empty DataFrame\n",
       "Columns: [logerror, airconditioningtypeid, basementsqft, bathroomcnt, bedroomcnt, buildingqualitytypeid, calculatedbathnbr, decktypeid, calculatedfinishedsquarefeet, finishedsquarefeet15, finishedsquarefeet50, fips, fireplacecnt, garagecarcnt, garagetotalsqft, hashottuborspa, heatingorsystemtypeid, latitude, longitude, lotsizesquarefeet, poolcnt, poolsizesum, pooltypeid2, pooltypeid7, propertylandusetypeid, rawcensustractandblock, regionidcounty, regionidzip, roomcnt, unitcnt, yardbuildingsqft17, yardbuildingsqft26, yearbuilt, numberofstories, fireplaceflag, structuretaxvaluedollarcnt, taxvaluedollarcnt, assessmentyear, landtaxvaluedollarcnt, taxdelinquencyflag, taxpercentage, transaction_quarter]\n",
       "Index: []\n",
       "\n",
       "[0 rows x 42 columns]"
      ]
     },
     "execution_count": 3,
     "metadata": {},
     "output_type": "execute_result"
    }
   ],
   "source": [
    "# check missing values\n",
    "train_data_2016[train_data_2016.isnull().any(axis=1)]"
   ]
  },
  {
   "cell_type": "code",
   "execution_count": 5,
   "metadata": {},
   "outputs": [
    {
     "data": {
      "text/html": [
       "<div>\n",
       "<style scoped>\n",
       "    .dataframe tbody tr th:only-of-type {\n",
       "        vertical-align: middle;\n",
       "    }\n",
       "\n",
       "    .dataframe tbody tr th {\n",
       "        vertical-align: top;\n",
       "    }\n",
       "\n",
       "    .dataframe thead th {\n",
       "        text-align: right;\n",
       "    }\n",
       "</style>\n",
       "<table border=\"1\" class=\"dataframe\">\n",
       "  <thead>\n",
       "    <tr style=\"text-align: right;\">\n",
       "      <th></th>\n",
       "      <th>logerror</th>\n",
       "      <th>airconditioningtypeid</th>\n",
       "      <th>basementsqft</th>\n",
       "      <th>bathroomcnt</th>\n",
       "      <th>bedroomcnt</th>\n",
       "      <th>buildingqualitytypeid</th>\n",
       "      <th>calculatedbathnbr</th>\n",
       "      <th>decktypeid</th>\n",
       "      <th>calculatedfinishedsquarefeet</th>\n",
       "      <th>finishedsquarefeet15</th>\n",
       "      <th>...</th>\n",
       "      <th>yearbuilt</th>\n",
       "      <th>numberofstories</th>\n",
       "      <th>fireplaceflag</th>\n",
       "      <th>structuretaxvaluedollarcnt</th>\n",
       "      <th>taxvaluedollarcnt</th>\n",
       "      <th>assessmentyear</th>\n",
       "      <th>landtaxvaluedollarcnt</th>\n",
       "      <th>taxdelinquencyflag</th>\n",
       "      <th>taxpercentage</th>\n",
       "      <th>transaction_quarter</th>\n",
       "    </tr>\n",
       "  </thead>\n",
       "  <tbody>\n",
       "  </tbody>\n",
       "</table>\n",
       "<p>0 rows × 42 columns</p>\n",
       "</div>"
      ],
      "text/plain": [
       "Empty DataFrame\n",
       "Columns: [logerror, airconditioningtypeid, basementsqft, bathroomcnt, bedroomcnt, buildingqualitytypeid, calculatedbathnbr, decktypeid, calculatedfinishedsquarefeet, finishedsquarefeet15, finishedsquarefeet50, fips, fireplacecnt, garagecarcnt, garagetotalsqft, hashottuborspa, heatingorsystemtypeid, latitude, longitude, lotsizesquarefeet, poolcnt, poolsizesum, pooltypeid2, pooltypeid7, propertylandusetypeid, rawcensustractandblock, regionidcounty, regionidzip, roomcnt, unitcnt, yardbuildingsqft17, yardbuildingsqft26, yearbuilt, numberofstories, fireplaceflag, structuretaxvaluedollarcnt, taxvaluedollarcnt, assessmentyear, landtaxvaluedollarcnt, taxdelinquencyflag, taxpercentage, transaction_quarter]\n",
       "Index: []\n",
       "\n",
       "[0 rows x 42 columns]"
      ]
     },
     "execution_count": 5,
     "metadata": {},
     "output_type": "execute_result"
    }
   ],
   "source": [
    "# check missing values\n",
    "train_data_2017[train_data_2017.isnull().any(axis=1)]"
   ]
  },
  {
   "cell_type": "code",
   "execution_count": 6,
   "metadata": {},
   "outputs": [],
   "source": [
    "train_data_2016=train_data_2016.drop('assessmentyear',axis=1)"
   ]
  },
  {
   "cell_type": "code",
   "execution_count": 7,
   "metadata": {},
   "outputs": [],
   "source": [
    "train_data_2017=train_data_2017.drop('assessmentyear',axis=1)"
   ]
  },
  {
   "cell_type": "code",
   "execution_count": 8,
   "metadata": {},
   "outputs": [],
   "source": [
    "# split the dependent and indepandent variables\n",
    "X_2016 = train_data_2016.drop('logerror',axis = 1)\n",
    "y_2016 = train_data_2016['logerror'].values.astype(np.float64)\n",
    "\n",
    "# split the dependent and indepandent variables\n",
    "X_2017 = train_data_2017.drop('logerror',axis = 1)\n",
    "y_2017 = train_data_2017['logerror'].values.astype(np.float64)"
   ]
  },
  {
   "cell_type": "code",
   "execution_count": 11,
   "metadata": {},
   "outputs": [],
   "source": [
    "# Fit a linear model and predict on test variable\n",
    "lm_2016= LinearRegression()\n",
    "x_train_2016,x_test_2016,y_train_2016,y_test_2016 = train_test_split(X_2016,y_2016,test_size=0.70,random_state=100)\n",
    "\n",
    "lm_2016.fit(x_train_2016,y_train_2016)\n",
    "prd_2016=lm_2016.predict(x_test_2016)"
   ]
  },
  {
   "cell_type": "code",
   "execution_count": 12,
   "metadata": {},
   "outputs": [],
   "source": [
    "# Fit a linear model and predict on test variable\n",
    "lm_2017= LinearRegression()\n",
    "x_train_2017,x_test_2017,y_train_2017,y_test_2017 = train_test_split(X_2017,y_2017,test_size=0.70,random_state=100)\n",
    "\n",
    "lm_2017.fit(x_train_2017,y_train_2017)\n",
    "prd_2017=lm_2017.predict(x_test_2017)"
   ]
  },
  {
   "cell_type": "code",
   "execution_count": 14,
   "metadata": {},
   "outputs": [
    {
     "name": "stdout",
     "output_type": "stream",
     "text": [
      "MAE---> 3.579998037762716\n",
      "MSE---> 778277.8790009575\n",
      "RMSE---> 882.2005888690834\n",
      "R^2---> -29919421.409815103\n"
     ]
    }
   ],
   "source": [
    "# performance metrics\n",
    "from sklearn import metrics\n",
    "print(\"MAE--->\",metrics.mean_absolute_error(y_test_2016,prd_2016))\n",
    "print(\"MSE--->\",metrics.mean_squared_error(y_test_2016,prd_2016))\n",
    "print(\"RMSE--->\",np.sqrt(metrics.mean_squared_error(y_test_2016,prd_2016)))\n",
    "print(\"R^2--->\", lm_2016.score(x_test_2016,y_test_2016))"
   ]
  },
  {
   "cell_type": "code",
   "execution_count": 16,
   "metadata": {},
   "outputs": [
    {
     "name": "stdout",
     "output_type": "stream",
     "text": [
      "MAE---> 0.07119114662206287\n",
      "MSE---> 0.028506543700146523\n",
      "RMSE---> 0.16883880981618687\n",
      "R^2---> 0.9999999925639491\n"
     ]
    }
   ],
   "source": [
    "# performance metrics\n",
    "from sklearn import metrics\n",
    "print(\"MAE--->\",metrics.mean_absolute_error(y_test_2017,prd_2017))\n",
    "print(\"MSE--->\",metrics.mean_squared_error(y_test_2017,prd_2017))\n",
    "print(\"RMSE--->\",np.sqrt(metrics.mean_squared_error(y_test_2017,prd_2017)))\n",
    "print(\"R^2--->\", lm_2017.score(x_test_2017,y_test_2017))"
   ]
  },
  {
   "cell_type": "code",
   "execution_count": 17,
   "metadata": {},
   "outputs": [
    {
     "data": {
      "image/png": "[encoded data removed]",
      "text/plain": [
       "<Figure size 720x576 with 1 Axes>"
      ]
     },
     "metadata": {},
     "output_type": "display_data"
    }
   ],
   "source": [
    "#Feature Importance\n",
    "variables = X_2016.columns\n",
    "coefficients = lm_2016.coef_\n",
    "fig, ax = plt.subplots(figsize=(10,8))\n",
    "rects = ax.barh(variables,coefficients,color='salmon')\n",
    "ax.set_xlabel(\"Coefficients\")\n",
    "ax.set_title(\"Feature Importance\")\n",
    "plt.show()"
   ]
  },
  {
   "cell_type": "code",
   "execution_count": 18,
   "metadata": {},
   "outputs": [
    {
     "data": {
      "image/png": "[encoded data removed]",
      "text/plain": [
       "<Figure size 720x576 with 1 Axes>"
      ]
     },
     "metadata": {},
     "output_type": "display_data"
    }
   ],
   "source": [
    "#Feature Importance\n",
    "variables = X_2017.columns\n",
    "coefficients = lm_2017.coef_\n",
    "fig, ax = plt.subplots(figsize=(10,8))\n",
    "rects = ax.barh(variables,coefficients,color='salmon')\n",
    "ax.set_xlabel(\"Coefficients\")\n",
    "ax.set_title(\"Feature Importance\")\n",
    "plt.show()"
   ]
  },
  {
   "cell_type": "code",
   "execution_count": 19,
   "metadata": {},
   "outputs": [],
   "source": [
    "# Random Forest\n",
    "# import libraries\n",
    "\n",
    "import pandas as pd\n",
    "from pandas import set_option\n",
    "import matplotlib.pyplot as plt\n",
    "import seaborn as sns\n",
    "import numpy as np\n",
    "from sklearn.model_selection import train_test_split\n",
    "\n",
    "from sklearn.linear_model import LinearRegression\n",
    "from sklearn import model_selection\n",
    "import scipy as sy\n",
    "from sklearn.preprocessing import OneHotEncoder\n",
    "from sklearn import neighbors\n",
    "\n",
    "from sklearn.feature_selection import RFE, f_regression\n",
    "from sklearn.linear_model import (LinearRegression, Ridge, Lasso, RandomizedLasso)\n",
    "from sklearn.ensemble import RandomForestRegressor"
   ]
  },
  {
   "cell_type": "code",
   "execution_count": 20,
   "metadata": {},
   "outputs": [
    {
     "data": {
      "text/plain": [
       "RandomForestRegressor(bootstrap=True, criterion='mae', max_depth=5,\n",
       "           max_features='auto', max_leaf_nodes=None,\n",
       "           min_impurity_decrease=0.0, min_impurity_split=None,\n",
       "           min_samples_leaf=1, min_samples_split=2,\n",
       "           min_weight_fraction_leaf=0.0, n_estimators=4, n_jobs=1,\n",
       "           oob_score=False, random_state=42, verbose=0, warm_start=False)"
      ]
     },
     "execution_count": 20,
     "metadata": {},
     "output_type": "execute_result"
    }
   ],
   "source": [
    "# Random forest with 5 trees and 5 depth\n",
    "rf = RandomForestRegressor(n_estimators=4,max_depth=5,random_state=42,criterion='mae')\n",
    "rf.fit(x_train_2016, y_train_2016)"
   ]
  },
  {
   "cell_type": "code",
   "execution_count": 21,
   "metadata": {},
   "outputs": [
    {
     "name": "stdout",
     "output_type": "stream",
     "text": [
      "0.06879869526688083\n"
     ]
    }
   ],
   "source": [
    "y_pred_2016=rf.predict(x_test_2016)\n",
    "df_y=abs(y_test_2016-y_pred_2016)\n",
    "MAE=df_y.sum()/len(y_test_2016)\n",
    "print(MAE)"
   ]
  },
  {
   "cell_type": "code",
   "execution_count": 22,
   "metadata": {},
   "outputs": [
    {
     "data": {
      "text/plain": [
       "RandomForestRegressor(bootstrap=True, criterion='mae', max_depth=5,\n",
       "           max_features='auto', max_leaf_nodes=None,\n",
       "           min_impurity_decrease=0.0, min_impurity_split=None,\n",
       "           min_samples_leaf=1, min_samples_split=2,\n",
       "           min_weight_fraction_leaf=0.0, n_estimators=4, n_jobs=1,\n",
       "           oob_score=False, random_state=42, verbose=0, warm_start=False)"
      ]
     },
     "execution_count": 22,
     "metadata": {},
     "output_type": "execute_result"
    }
   ],
   "source": [
    "# Random forest with 5 trees and 5 depth\n",
    "rf.fit(x_train_2017, y_train_2017)"
   ]
  },
  {
   "cell_type": "code",
   "execution_count": 24,
   "metadata": {},
   "outputs": [
    {
     "name": "stdout",
     "output_type": "stream",
     "text": [
      "0.06965368453149012\n"
     ]
    }
   ],
   "source": [
    "y_pred_2017=rf.predict(x_test_2017)\n",
    "df_y=abs(y_test_2017-y_pred_2017)\n",
    "MAE=df_y.sum()/len(y_test_2017)\n",
    "print(MAE)"
   ]
  },
  {
   "cell_type": "code",
   "execution_count": 25,
   "metadata": {},
   "outputs": [],
   "source": [
    "# XGBoost\n",
    "# import libraries\n",
    "\n",
    "import pandas as pd\n",
    "from pandas import set_option\n",
    "import matplotlib.pyplot as plt\n",
    "import seaborn as sns\n",
    "import numpy as np\n",
    "from sklearn.model_selection import train_test_split\n",
    "\n",
    "from sklearn.linear_model import LinearRegression\n",
    "from sklearn import model_selection\n",
    "import scipy as sy\n",
    "from sklearn.preprocessing import OneHotEncoder\n",
    "from sklearn import neighbors\n",
    "\n",
    "from sklearn.feature_selection import RFE, f_regression\n",
    "from sklearn.linear_model import (LinearRegression, Ridge, Lasso, RandomizedLasso)\n",
    "from sklearn.ensemble import RandomForestRegressor\n",
    "from xgboost import XGBRegressor\n",
    "from sklearn.model_selection import KFold, train_test_split, GridSearchCV\n",
    "from sklearn.metrics import mean_squared_error\n",
    "from sklearn.metrics import mean_absolute_error"
   ]
  },
  {
   "cell_type": "code",
   "execution_count": 26,
   "metadata": {},
   "outputs": [],
   "source": [
    "model = XGBRegressor()\n",
    "xgb_2016 = model.fit(x_train_2016, y_train_2016)"
   ]
  },
  {
   "cell_type": "code",
   "execution_count": 27,
   "metadata": {},
   "outputs": [],
   "source": [
    "model = XGBRegressor()\n",
    "xgb_2017 = model.fit(x_train_2017, y_train_2017)"
   ]
  },
  {
   "cell_type": "code",
   "execution_count": 29,
   "metadata": {},
   "outputs": [
    {
     "name": "stdout",
     "output_type": "stream",
     "text": [
      "MSE: 0.026237\n",
      "MAE: 0.069369\n",
      "MSE: 0.043252\n",
      "MAE: 0.073377\n"
     ]
    }
   ],
   "source": [
    "preds_2016 = xgb_2016.predict(x_test_2016)\n",
    "mse = mean_squared_error(y_test_2016, preds_2016)\n",
    "print(\"MSE: %f\" % mse)\n",
    "\n",
    "mae = mean_absolute_error(y_test_2016, preds_2016)\n",
    "print(\"MAE: %f\" % mae)\n",
    "\n",
    "\n",
    "preds_2017 = xgb_2017.predict(x_test_2017)\n",
    "mse = mean_squared_error(y_test_2017, preds_2017)\n",
    "print(\"MSE: %f\" % mse)\n",
    "\n",
    "mae = mean_absolute_error(y_test_2017, preds_2017)\n",
    "print(\"MAE: %f\" % mae)"
   ]
  },
  {
   "cell_type": "code",
   "execution_count": null,
   "metadata": {},
   "outputs": [],
   "source": []
  }
 ],
 "metadata": {
  "kernelspec": {
   "display_name": "Python 3",
   "language": "python",
   "name": "python3"
  },
  "language_info": {
   "codemirror_mode": {
    "name": "ipython",
    "version": 3
   },
   "file_extension": ".py",
   "mimetype": "text/x-python",
   "name": "python",
   "nbconvert_exporter": "python",
   "pygments_lexer": "ipython3",
   "version": "3.6.5"
  }
 },
 "nbformat": 4,
 "nbformat_minor": 2
}
